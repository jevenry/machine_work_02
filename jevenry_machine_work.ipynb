{
 "cells": [
  {
   "cell_type": "markdown",
   "id": "dce1403a",
   "metadata": {
    "papermill": {
     "duration": 0.033377,
     "end_time": "2021-12-13T13:59:42.906864",
     "exception": false,
     "start_time": "2021-12-13T13:59:42.873487",
     "status": "completed"
    },
    "tags": []
   },
   "source": [
    "<a id='1'></a>\n",
    "# 1.0- 加载所需资料与配置"
   ]
  },
  {
   "cell_type": "code",
   "execution_count": 1,
   "id": "0a23c85f",
   "metadata": {
    "_cell_guid": "b1076dfc-b9ad-4769-8c92-a6c4dae69d19",
    "_uuid": "8f2839f25d086af736a60e9eeb907d3b93b6e0e5",
    "execution": {
     "iopub.execute_input": "2021-12-13T13:59:42.982928Z",
     "iopub.status.busy": "2021-12-13T13:59:42.979748Z",
     "iopub.status.idle": "2021-12-13T13:59:42.988412Z",
     "shell.execute_reply": "2021-12-13T13:59:42.988819Z",
     "shell.execute_reply.started": "2021-12-13T11:50:08.821895Z"
    },
    "papermill": {
     "duration": 0.049127,
     "end_time": "2021-12-13T13:59:42.989044",
     "exception": false,
     "start_time": "2021-12-13T13:59:42.939917",
     "status": "completed"
    },
    "tags": []
   },
   "outputs": [
    {
     "name": "stdout",
     "output_type": "stream",
     "text": [
      "/kaggle/input/tabular-playground-series-dec-2021/sample_submission.csv\n",
      "/kaggle/input/tabular-playground-series-dec-2021/train.csv\n",
      "/kaggle/input/tabular-playground-series-dec-2021/test.csv\n"
     ]
    }
   ],
   "source": [
    "import numpy as np\n",
    "import pandas as pd\n",
    "import os\n",
    "for dirname, _, filenames in os.walk('/kaggle/input'):\n",
    "    for filename in filenames:\n",
    "        print(os.path.join(dirname, filename))"
   ]
  },
  {
   "cell_type": "code",
   "execution_count": 2,
   "id": "db18e41d",
   "metadata": {
    "execution": {
     "iopub.execute_input": "2021-12-13T13:59:43.057985Z",
     "iopub.status.busy": "2021-12-13T13:59:43.057325Z",
     "iopub.status.idle": "2021-12-13T13:59:46.487627Z",
     "shell.execute_reply": "2021-12-13T13:59:46.487164Z",
     "shell.execute_reply.started": "2021-12-13T11:50:08.857181Z"
    },
    "papermill": {
     "duration": 3.466118,
     "end_time": "2021-12-13T13:59:46.487745",
     "exception": false,
     "start_time": "2021-12-13T13:59:43.021627",
     "status": "completed"
    },
    "tags": []
   },
   "outputs": [
    {
     "data": {
      "text/html": [
       "<style type='text/css'>\n",
       ".datatable table.frame { margin-bottom: 0; }\n",
       ".datatable table.frame thead { border-bottom: none; }\n",
       ".datatable table.frame tr.coltypes td {  color: #FFFFFF;  line-height: 6px;  padding: 0 0.5em;}\n",
       ".datatable .bool    { background: #DDDD99; }\n",
       ".datatable .object  { background: #565656; }\n",
       ".datatable .int     { background: #5D9E5D; }\n",
       ".datatable .float   { background: #4040CC; }\n",
       ".datatable .str     { background: #CC4040; }\n",
       ".datatable .time    { background: #40CC40; }\n",
       ".datatable .row_index {  background: var(--jp-border-color3);  border-right: 1px solid var(--jp-border-color0);  color: var(--jp-ui-font-color3);  font-size: 9px;}\n",
       ".datatable .frame tbody td { text-align: left; }\n",
       ".datatable .frame tr.coltypes .row_index {  background: var(--jp-border-color0);}\n",
       ".datatable th:nth-child(2) { padding-left: 12px; }\n",
       ".datatable .hellipsis {  color: var(--jp-cell-editor-border-color);}\n",
       ".datatable .vellipsis {  background: var(--jp-layout-color0);  color: var(--jp-cell-editor-border-color);}\n",
       ".datatable .na {  color: var(--jp-cell-editor-border-color);  font-size: 80%;}\n",
       ".datatable .sp {  opacity: 0.25;}\n",
       ".datatable .footer { font-size: 9px; }\n",
       ".datatable .frame_dimensions {  background: var(--jp-border-color3);  border-top: 1px solid var(--jp-border-color0);  color: var(--jp-ui-font-color3);  display: inline-block;  opacity: 0.6;  padding: 1px 10px 1px 5px;}\n",
       ".datatable .frame thead tr.colnames {  background-image: url('data:image/png;base64,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');  background-repeat: repeat-x;  background-size: 14px;  height: 28px;}\n",
       "</style>\n"
      ],
      "text/plain": [
       "<IPython.core.display.HTML object>"
      ]
     },
     "metadata": {},
     "output_type": "display_data"
    }
   ],
   "source": [
    "import matplotlib.pyplot as plt\n",
    "import plotly.express as px\n",
    "\n",
    "\n",
    "from lightgbm import LGBMClassifier\n",
    "\n",
    "\n",
    "from sklearn.model_selection import train_test_split\n",
    "from sklearn.metrics import accuracy_score\n",
    "from sklearn.model_selection import StratifiedKFold\n",
    "\n",
    "import gc"
   ]
  },
  {
   "cell_type": "code",
   "execution_count": 3,
   "id": "70aef753",
   "metadata": {
    "execution": {
     "iopub.execute_input": "2021-12-13T13:59:46.559040Z",
     "iopub.status.busy": "2021-12-13T13:59:46.558354Z",
     "iopub.status.idle": "2021-12-13T13:59:46.560766Z",
     "shell.execute_reply": "2021-12-13T13:59:46.560371Z",
     "shell.execute_reply.started": "2021-12-13T11:50:12.407603Z"
    },
    "papermill": {
     "duration": 0.038547,
     "end_time": "2021-12-13T13:59:46.560901",
     "exception": false,
     "start_time": "2021-12-13T13:59:46.522354",
     "status": "completed"
    },
    "tags": []
   },
   "outputs": [],
   "source": [
    "# 隐藏warning\n",
    "import warnings\n",
    "warnings.filterwarnings('ignore')"
   ]
  },
  {
   "cell_type": "code",
   "execution_count": 4,
   "id": "ba8502c7",
   "metadata": {
    "execution": {
     "iopub.execute_input": "2021-12-13T13:59:46.630976Z",
     "iopub.status.busy": "2021-12-13T13:59:46.630209Z",
     "iopub.status.idle": "2021-12-13T13:59:46.632661Z",
     "shell.execute_reply": "2021-12-13T13:59:46.632245Z",
     "shell.execute_reply.started": "2021-12-13T11:50:12.420630Z"
    },
    "papermill": {
     "duration": 0.038752,
     "end_time": "2021-12-13T13:59:46.632759",
     "exception": false,
     "start_time": "2021-12-13T13:59:46.594007",
     "status": "completed"
    },
    "tags": []
   },
   "outputs": [],
   "source": [
    "#相关优化配置\n",
    "SEED   = 42\n",
    "pd.options.display.float_format = '{:,.2f}'.format\n",
    "pd.set_option('display.max_columns', 15) \n",
    "pd.set_option('display.max_rows', 25)"
   ]
  },
  {
   "cell_type": "markdown",
   "id": "59d87e19",
   "metadata": {
    "papermill": {
     "duration": 0.032509,
     "end_time": "2021-12-13T13:59:46.698127",
     "exception": false,
     "start_time": "2021-12-13T13:59:46.665618",
     "status": "completed"
    },
    "tags": []
   },
   "source": [
    "<a id='2'></a>\n",
    "# 1.2- 加载数据集"
   ]
  },
  {
   "cell_type": "code",
   "execution_count": 5,
   "id": "d8ec20af",
   "metadata": {
    "execution": {
     "iopub.execute_input": "2021-12-13T13:59:46.768489Z",
     "iopub.status.busy": "2021-12-13T13:59:46.767976Z",
     "iopub.status.idle": "2021-12-13T13:59:46.771181Z",
     "shell.execute_reply": "2021-12-13T13:59:46.771590Z",
     "shell.execute_reply.started": "2021-12-13T11:50:12.440945Z"
    },
    "papermill": {
     "duration": 0.04068,
     "end_time": "2021-12-13T13:59:46.771705",
     "exception": false,
     "start_time": "2021-12-13T13:59:46.731025",
     "status": "completed"
    },
    "tags": []
   },
   "outputs": [],
   "source": [
    "# 建立dataframe函数\n",
    "def import_csv(path):\n",
    "    \"\"\"\n",
    "    Import CSV to a dataframe using the specified path...\n",
    "    \"\"\"\n",
    "    df = pd.read_csv(path)\n",
    "    return df"
   ]
  },
  {
   "cell_type": "code",
   "execution_count": 6,
   "id": "d4382c5f",
   "metadata": {
    "execution": {
     "iopub.execute_input": "2021-12-13T13:59:46.842576Z",
     "iopub.status.busy": "2021-12-13T13:59:46.842044Z",
     "iopub.status.idle": "2021-12-13T14:00:06.943988Z",
     "shell.execute_reply": "2021-12-13T14:00:06.944439Z",
     "shell.execute_reply.started": "2021-12-13T12:03:08.725963Z"
    },
    "papermill": {
     "duration": 20.139712,
     "end_time": "2021-12-13T14:00:06.944613",
     "exception": false,
     "start_time": "2021-12-13T13:59:46.804901",
     "status": "completed"
    },
    "tags": []
   },
   "outputs": [],
   "source": [
    "# 建立dataframe\n",
    "TRAIN_PATH = '/kaggle/input/tabular-playground-series-dec-2021/train.csv'\n",
    "train_df = import_csv(TRAIN_PATH)\n",
    "\n",
    "TEST_PATH = '/kaggle/input/tabular-playground-series-dec-2021/test.csv'\n",
    "test_df = import_csv(TEST_PATH)\n",
    "\n",
    "SUB_PATH = '/kaggle/input/tabular-playground-series-dec-2021/sample_submission.csv'\n",
    "submission_df = import_csv(SUB_PATH)"
   ]
  },
  {
   "cell_type": "code",
   "execution_count": 7,
   "id": "73fce3d3",
   "metadata": {
    "execution": {
     "iopub.execute_input": "2021-12-13T14:00:07.023506Z",
     "iopub.status.busy": "2021-12-13T14:00:07.018188Z",
     "iopub.status.idle": "2021-12-13T14:00:07.026555Z",
     "shell.execute_reply": "2021-12-13T14:00:07.026157Z",
     "shell.execute_reply.started": "2021-12-13T12:03:29.365522Z"
    },
    "papermill": {
     "duration": 0.048476,
     "end_time": "2021-12-13T14:00:07.026661",
     "exception": false,
     "start_time": "2021-12-13T14:00:06.978185",
     "status": "completed"
    },
    "tags": []
   },
   "outputs": [],
   "source": [
    "# 内存优化函数\n",
    "def reduce_mem_usage(df, verbose = True):\n",
    "    \"\"\"\n",
    "    Takes an input dataframe and optimize the variable types to reduce memory consumption.\n",
    "    \"\"\"\n",
    "    numerics = ['int16', 'int32', 'int64', 'float16', 'float32', 'float64']\n",
    "    start_mem = df.memory_usage().sum() / 1024**2\n",
    "\n",
    "    for col in df.columns:\n",
    "        col_type = df[col].dtypes\n",
    "\n",
    "        if col_type in numerics:\n",
    "            c_min = df[col].min()\n",
    "            c_max = df[col].max()\n",
    "\n",
    "            if str(col_type)[:3] == 'int':\n",
    "                if c_min > np.iinfo(np.int8).min and c_max < np.iinfo(np.int8).max:\n",
    "                    df[col] = df[col].astype(np.int8)\n",
    "                elif c_min > np.iinfo(np.int16).min and c_max < np.iinfo(np.int16).max:\n",
    "                    df[col] = df[col].astype(np.int16)\n",
    "                elif c_min > np.iinfo(np.int32).min and c_max < np.iinfo(np.int32).max:\n",
    "                    df[col] = df[col].astype(np.int32)\n",
    "                elif c_min > np.iinfo(np.int64).min and c_max < np.iinfo(np.int64).max:\n",
    "                    df[col] = df[col].astype(np.int64)  \n",
    "            else:\n",
    "                if c_min > np.finfo(np.float32).min and c_max < np.finfo(np.float32).max:\n",
    "                    df[col] = df[col].astype(np.float32)\n",
    "                else:\n",
    "                    df[col] = df[col].astype(np.float64)\n",
    "\n",
    "    end_mem = df.memory_usage().sum() / 1024**2\n",
    "\n",
    "    if verbose:\n",
    "        print('Mem. usage decreased to {:5.2f} Mb ({:.1f}% reduction)'.format(end_mem, 100 * (start_mem - end_mem) / start_mem)) \n",
    "        \n",
    "    return df"
   ]
  },
  {
   "cell_type": "code",
   "execution_count": 8,
   "id": "3ef53ed8",
   "metadata": {
    "execution": {
     "iopub.execute_input": "2021-12-13T14:00:07.099012Z",
     "iopub.status.busy": "2021-12-13T14:00:07.098224Z",
     "iopub.status.idle": "2021-12-13T14:00:28.446435Z",
     "shell.execute_reply": "2021-12-13T14:00:28.447033Z",
     "shell.execute_reply.started": "2021-12-13T12:03:31.114116Z"
    },
    "papermill": {
     "duration": 21.388097,
     "end_time": "2021-12-13T14:00:28.447258",
     "exception": false,
     "start_time": "2021-12-13T14:00:07.059161",
     "status": "completed"
    },
    "tags": []
   },
   "outputs": [
    {
     "name": "stdout",
     "output_type": "stream",
     "text": [
      "Mem. usage decreased to 259.40 Mb (84.8% reduction)\n",
      "Mem. usage decreased to 63.90 Mb (84.8% reduction)\n"
     ]
    }
   ],
   "source": [
    "# 进行优化\n",
    "train_df = reduce_mem_usage(train_df)\n",
    "test_df = reduce_mem_usage(test_df)"
   ]
  },
  {
   "cell_type": "markdown",
   "id": "37a1e93d",
   "metadata": {
    "papermill": {
     "duration": 0.03264,
     "end_time": "2021-12-13T14:00:28.514018",
     "exception": false,
     "start_time": "2021-12-13T14:00:28.481378",
     "status": "completed"
    },
    "tags": []
   },
   "source": [
    "___"
   ]
  },
  {
   "cell_type": "markdown",
   "id": "abaa3bef",
   "metadata": {
    "papermill": {
     "duration": 0.032257,
     "end_time": "2021-12-13T14:00:28.578971",
     "exception": false,
     "start_time": "2021-12-13T14:00:28.546714",
     "status": "completed"
    },
    "tags": []
   },
   "source": [
    "<a id='3'></a>\n",
    "# 2.0-了解数据集"
   ]
  },
  {
   "cell_type": "code",
   "execution_count": 9,
   "id": "dc911ace",
   "metadata": {
    "execution": {
     "iopub.execute_input": "2021-12-13T14:00:28.653145Z",
     "iopub.status.busy": "2021-12-13T14:00:28.648774Z",
     "iopub.status.idle": "2021-12-13T14:00:28.667237Z",
     "shell.execute_reply": "2021-12-13T14:00:28.666811Z",
     "shell.execute_reply.started": "2021-12-13T12:08:36.441565Z"
    },
    "papermill": {
     "duration": 0.055783,
     "end_time": "2021-12-13T14:00:28.667344",
     "exception": false,
     "start_time": "2021-12-13T14:00:28.611561",
     "status": "completed"
    },
    "tags": []
   },
   "outputs": [
    {
     "data": {
      "text/html": [
       "<div>\n",
       "<style scoped>\n",
       "    .dataframe tbody tr th:only-of-type {\n",
       "        vertical-align: middle;\n",
       "    }\n",
       "\n",
       "    .dataframe tbody tr th {\n",
       "        vertical-align: top;\n",
       "    }\n",
       "\n",
       "    .dataframe thead th {\n",
       "        text-align: right;\n",
       "    }\n",
       "</style>\n",
       "<table border=\"1\" class=\"dataframe\">\n",
       "  <thead>\n",
       "    <tr style=\"text-align: right;\">\n",
       "      <th></th>\n",
       "      <th>Id</th>\n",
       "      <th>Elevation</th>\n",
       "      <th>Aspect</th>\n",
       "      <th>Slope</th>\n",
       "      <th>Horizontal_Distance_To_Hydrology</th>\n",
       "      <th>Vertical_Distance_To_Hydrology</th>\n",
       "      <th>Horizontal_Distance_To_Roadways</th>\n",
       "      <th>...</th>\n",
       "      <th>Soil_Type35</th>\n",
       "      <th>Soil_Type36</th>\n",
       "      <th>Soil_Type37</th>\n",
       "      <th>Soil_Type38</th>\n",
       "      <th>Soil_Type39</th>\n",
       "      <th>Soil_Type40</th>\n",
       "      <th>Cover_Type</th>\n",
       "    </tr>\n",
       "  </thead>\n",
       "  <tbody>\n",
       "    <tr>\n",
       "      <th>0</th>\n",
       "      <td>0</td>\n",
       "      <td>3189</td>\n",
       "      <td>40</td>\n",
       "      <td>8</td>\n",
       "      <td>30</td>\n",
       "      <td>13</td>\n",
       "      <td>3270</td>\n",
       "      <td>...</td>\n",
       "      <td>0</td>\n",
       "      <td>0</td>\n",
       "      <td>0</td>\n",
       "      <td>0</td>\n",
       "      <td>0</td>\n",
       "      <td>0</td>\n",
       "      <td>1</td>\n",
       "    </tr>\n",
       "    <tr>\n",
       "      <th>1</th>\n",
       "      <td>1</td>\n",
       "      <td>3026</td>\n",
       "      <td>182</td>\n",
       "      <td>5</td>\n",
       "      <td>280</td>\n",
       "      <td>29</td>\n",
       "      <td>3270</td>\n",
       "      <td>...</td>\n",
       "      <td>0</td>\n",
       "      <td>0</td>\n",
       "      <td>0</td>\n",
       "      <td>0</td>\n",
       "      <td>0</td>\n",
       "      <td>0</td>\n",
       "      <td>2</td>\n",
       "    </tr>\n",
       "    <tr>\n",
       "      <th>2</th>\n",
       "      <td>2</td>\n",
       "      <td>3106</td>\n",
       "      <td>13</td>\n",
       "      <td>7</td>\n",
       "      <td>351</td>\n",
       "      <td>37</td>\n",
       "      <td>2914</td>\n",
       "      <td>...</td>\n",
       "      <td>0</td>\n",
       "      <td>0</td>\n",
       "      <td>0</td>\n",
       "      <td>0</td>\n",
       "      <td>0</td>\n",
       "      <td>0</td>\n",
       "      <td>1</td>\n",
       "    </tr>\n",
       "    <tr>\n",
       "      <th>3</th>\n",
       "      <td>3</td>\n",
       "      <td>3022</td>\n",
       "      <td>276</td>\n",
       "      <td>13</td>\n",
       "      <td>192</td>\n",
       "      <td>16</td>\n",
       "      <td>3034</td>\n",
       "      <td>...</td>\n",
       "      <td>0</td>\n",
       "      <td>0</td>\n",
       "      <td>0</td>\n",
       "      <td>0</td>\n",
       "      <td>0</td>\n",
       "      <td>0</td>\n",
       "      <td>2</td>\n",
       "    </tr>\n",
       "    <tr>\n",
       "      <th>4</th>\n",
       "      <td>4</td>\n",
       "      <td>2906</td>\n",
       "      <td>186</td>\n",
       "      <td>13</td>\n",
       "      <td>266</td>\n",
       "      <td>22</td>\n",
       "      <td>2916</td>\n",
       "      <td>...</td>\n",
       "      <td>0</td>\n",
       "      <td>0</td>\n",
       "      <td>0</td>\n",
       "      <td>0</td>\n",
       "      <td>0</td>\n",
       "      <td>0</td>\n",
       "      <td>2</td>\n",
       "    </tr>\n",
       "  </tbody>\n",
       "</table>\n",
       "<p>5 rows × 56 columns</p>\n",
       "</div>"
      ],
      "text/plain": [
       "   Id  Elevation  Aspect  Slope  Horizontal_Distance_To_Hydrology  \\\n",
       "0   0       3189      40      8                                30   \n",
       "1   1       3026     182      5                               280   \n",
       "2   2       3106      13      7                               351   \n",
       "3   3       3022     276     13                               192   \n",
       "4   4       2906     186     13                               266   \n",
       "\n",
       "   Vertical_Distance_To_Hydrology  Horizontal_Distance_To_Roadways  ...  \\\n",
       "0                              13                             3270  ...   \n",
       "1                              29                             3270  ...   \n",
       "2                              37                             2914  ...   \n",
       "3                              16                             3034  ...   \n",
       "4                              22                             2916  ...   \n",
       "\n",
       "   Soil_Type35  Soil_Type36  Soil_Type37  Soil_Type38  Soil_Type39  \\\n",
       "0            0            0            0            0            0   \n",
       "1            0            0            0            0            0   \n",
       "2            0            0            0            0            0   \n",
       "3            0            0            0            0            0   \n",
       "4            0            0            0            0            0   \n",
       "\n",
       "   Soil_Type40  Cover_Type  \n",
       "0            0           1  \n",
       "1            0           2  \n",
       "2            0           1  \n",
       "3            0           2  \n",
       "4            0           2  \n",
       "\n",
       "[5 rows x 56 columns]"
      ]
     },
     "execution_count": 9,
     "metadata": {},
     "output_type": "execute_result"
    }
   ],
   "source": [
    "# 观察train内的前5行\n",
    "train_df.head()"
   ]
  },
  {
   "cell_type": "code",
   "execution_count": 10,
   "id": "7ba54e9d",
   "metadata": {
    "execution": {
     "iopub.execute_input": "2021-12-13T14:00:28.745272Z",
     "iopub.status.busy": "2021-12-13T14:00:28.743818Z",
     "iopub.status.idle": "2021-12-13T14:00:32.288929Z",
     "shell.execute_reply": "2021-12-13T14:00:32.288350Z",
     "shell.execute_reply.started": "2021-12-13T12:10:22.285593Z"
    },
    "papermill": {
     "duration": 3.587844,
     "end_time": "2021-12-13T14:00:32.289060",
     "exception": false,
     "start_time": "2021-12-13T14:00:28.701216",
     "status": "completed"
    },
    "tags": []
   },
   "outputs": [
    {
     "data": {
      "text/html": [
       "<div>\n",
       "<style scoped>\n",
       "    .dataframe tbody tr th:only-of-type {\n",
       "        vertical-align: middle;\n",
       "    }\n",
       "\n",
       "    .dataframe tbody tr th {\n",
       "        vertical-align: top;\n",
       "    }\n",
       "\n",
       "    .dataframe thead th {\n",
       "        text-align: right;\n",
       "    }\n",
       "</style>\n",
       "<table border=\"1\" class=\"dataframe\">\n",
       "  <thead>\n",
       "    <tr style=\"text-align: right;\">\n",
       "      <th></th>\n",
       "      <th>Id</th>\n",
       "      <th>Elevation</th>\n",
       "      <th>Aspect</th>\n",
       "      <th>Slope</th>\n",
       "      <th>Horizontal_Distance_To_Hydrology</th>\n",
       "      <th>Vertical_Distance_To_Hydrology</th>\n",
       "      <th>Horizontal_Distance_To_Roadways</th>\n",
       "      <th>...</th>\n",
       "      <th>Soil_Type35</th>\n",
       "      <th>Soil_Type36</th>\n",
       "      <th>Soil_Type37</th>\n",
       "      <th>Soil_Type38</th>\n",
       "      <th>Soil_Type39</th>\n",
       "      <th>Soil_Type40</th>\n",
       "      <th>Cover_Type</th>\n",
       "    </tr>\n",
       "  </thead>\n",
       "  <tbody>\n",
       "    <tr>\n",
       "      <th>count</th>\n",
       "      <td>4,000,000.00</td>\n",
       "      <td>4,000,000.00</td>\n",
       "      <td>4,000,000.00</td>\n",
       "      <td>4,000,000.00</td>\n",
       "      <td>4,000,000.00</td>\n",
       "      <td>4,000,000.00</td>\n",
       "      <td>4,000,000.00</td>\n",
       "      <td>...</td>\n",
       "      <td>4,000,000.00</td>\n",
       "      <td>4,000,000.00</td>\n",
       "      <td>4,000,000.00</td>\n",
       "      <td>4,000,000.00</td>\n",
       "      <td>4,000,000.00</td>\n",
       "      <td>4,000,000.00</td>\n",
       "      <td>4,000,000.00</td>\n",
       "    </tr>\n",
       "    <tr>\n",
       "      <th>mean</th>\n",
       "      <td>1,999,999.50</td>\n",
       "      <td>2,980.19</td>\n",
       "      <td>151.59</td>\n",
       "      <td>15.10</td>\n",
       "      <td>271.32</td>\n",
       "      <td>51.66</td>\n",
       "      <td>1,766.64</td>\n",
       "      <td>...</td>\n",
       "      <td>0.02</td>\n",
       "      <td>0.01</td>\n",
       "      <td>0.01</td>\n",
       "      <td>0.04</td>\n",
       "      <td>0.04</td>\n",
       "      <td>0.03</td>\n",
       "      <td>1.77</td>\n",
       "    </tr>\n",
       "    <tr>\n",
       "      <th>std</th>\n",
       "      <td>1,154,700.68</td>\n",
       "      <td>289.05</td>\n",
       "      <td>109.96</td>\n",
       "      <td>8.55</td>\n",
       "      <td>226.55</td>\n",
       "      <td>68.22</td>\n",
       "      <td>1,315.61</td>\n",
       "      <td>...</td>\n",
       "      <td>0.13</td>\n",
       "      <td>0.10</td>\n",
       "      <td>0.11</td>\n",
       "      <td>0.20</td>\n",
       "      <td>0.19</td>\n",
       "      <td>0.17</td>\n",
       "      <td>0.89</td>\n",
       "    </tr>\n",
       "    <tr>\n",
       "      <th>min</th>\n",
       "      <td>0.00</td>\n",
       "      <td>1,773.00</td>\n",
       "      <td>-33.00</td>\n",
       "      <td>-3.00</td>\n",
       "      <td>-92.00</td>\n",
       "      <td>-317.00</td>\n",
       "      <td>-287.00</td>\n",
       "      <td>...</td>\n",
       "      <td>0.00</td>\n",
       "      <td>0.00</td>\n",
       "      <td>0.00</td>\n",
       "      <td>0.00</td>\n",
       "      <td>0.00</td>\n",
       "      <td>0.00</td>\n",
       "      <td>1.00</td>\n",
       "    </tr>\n",
       "    <tr>\n",
       "      <th>25%</th>\n",
       "      <td>999,999.75</td>\n",
       "      <td>2,760.00</td>\n",
       "      <td>60.00</td>\n",
       "      <td>9.00</td>\n",
       "      <td>110.00</td>\n",
       "      <td>4.00</td>\n",
       "      <td>822.00</td>\n",
       "      <td>...</td>\n",
       "      <td>0.00</td>\n",
       "      <td>0.00</td>\n",
       "      <td>0.00</td>\n",
       "      <td>0.00</td>\n",
       "      <td>0.00</td>\n",
       "      <td>0.00</td>\n",
       "      <td>1.00</td>\n",
       "    </tr>\n",
       "    <tr>\n",
       "      <th>50%</th>\n",
       "      <td>1,999,999.50</td>\n",
       "      <td>2,966.00</td>\n",
       "      <td>123.00</td>\n",
       "      <td>14.00</td>\n",
       "      <td>213.00</td>\n",
       "      <td>31.00</td>\n",
       "      <td>1,436.00</td>\n",
       "      <td>...</td>\n",
       "      <td>0.00</td>\n",
       "      <td>0.00</td>\n",
       "      <td>0.00</td>\n",
       "      <td>0.00</td>\n",
       "      <td>0.00</td>\n",
       "      <td>0.00</td>\n",
       "      <td>2.00</td>\n",
       "    </tr>\n",
       "    <tr>\n",
       "      <th>75%</th>\n",
       "      <td>2,999,999.25</td>\n",
       "      <td>3,217.00</td>\n",
       "      <td>247.00</td>\n",
       "      <td>20.00</td>\n",
       "      <td>361.00</td>\n",
       "      <td>78.00</td>\n",
       "      <td>2,365.00</td>\n",
       "      <td>...</td>\n",
       "      <td>0.00</td>\n",
       "      <td>0.00</td>\n",
       "      <td>0.00</td>\n",
       "      <td>0.00</td>\n",
       "      <td>0.00</td>\n",
       "      <td>0.00</td>\n",
       "      <td>2.00</td>\n",
       "    </tr>\n",
       "    <tr>\n",
       "      <th>max</th>\n",
       "      <td>3,999,999.00</td>\n",
       "      <td>4,383.00</td>\n",
       "      <td>407.00</td>\n",
       "      <td>64.00</td>\n",
       "      <td>1,602.00</td>\n",
       "      <td>647.00</td>\n",
       "      <td>7,666.00</td>\n",
       "      <td>...</td>\n",
       "      <td>1.00</td>\n",
       "      <td>1.00</td>\n",
       "      <td>1.00</td>\n",
       "      <td>1.00</td>\n",
       "      <td>1.00</td>\n",
       "      <td>1.00</td>\n",
       "      <td>7.00</td>\n",
       "    </tr>\n",
       "  </tbody>\n",
       "</table>\n",
       "<p>8 rows × 56 columns</p>\n",
       "</div>"
      ],
      "text/plain": [
       "                Id    Elevation       Aspect        Slope  \\\n",
       "count 4,000,000.00 4,000,000.00 4,000,000.00 4,000,000.00   \n",
       "mean  1,999,999.50     2,980.19       151.59        15.10   \n",
       "std   1,154,700.68       289.05       109.96         8.55   \n",
       "min           0.00     1,773.00       -33.00        -3.00   \n",
       "25%     999,999.75     2,760.00        60.00         9.00   \n",
       "50%   1,999,999.50     2,966.00       123.00        14.00   \n",
       "75%   2,999,999.25     3,217.00       247.00        20.00   \n",
       "max   3,999,999.00     4,383.00       407.00        64.00   \n",
       "\n",
       "       Horizontal_Distance_To_Hydrology  Vertical_Distance_To_Hydrology  \\\n",
       "count                      4,000,000.00                    4,000,000.00   \n",
       "mean                             271.32                           51.66   \n",
       "std                              226.55                           68.22   \n",
       "min                              -92.00                         -317.00   \n",
       "25%                              110.00                            4.00   \n",
       "50%                              213.00                           31.00   \n",
       "75%                              361.00                           78.00   \n",
       "max                            1,602.00                          647.00   \n",
       "\n",
       "       Horizontal_Distance_To_Roadways  ...  Soil_Type35  Soil_Type36  \\\n",
       "count                     4,000,000.00  ... 4,000,000.00 4,000,000.00   \n",
       "mean                          1,766.64  ...         0.02         0.01   \n",
       "std                           1,315.61  ...         0.13         0.10   \n",
       "min                            -287.00  ...         0.00         0.00   \n",
       "25%                             822.00  ...         0.00         0.00   \n",
       "50%                           1,436.00  ...         0.00         0.00   \n",
       "75%                           2,365.00  ...         0.00         0.00   \n",
       "max                           7,666.00  ...         1.00         1.00   \n",
       "\n",
       "       Soil_Type37  Soil_Type38  Soil_Type39  Soil_Type40   Cover_Type  \n",
       "count 4,000,000.00 4,000,000.00 4,000,000.00 4,000,000.00 4,000,000.00  \n",
       "mean          0.01         0.04         0.04         0.03         1.77  \n",
       "std           0.11         0.20         0.19         0.17         0.89  \n",
       "min           0.00         0.00         0.00         0.00         1.00  \n",
       "25%           0.00         0.00         0.00         0.00         1.00  \n",
       "50%           0.00         0.00         0.00         0.00         2.00  \n",
       "75%           0.00         0.00         0.00         0.00         2.00  \n",
       "max           1.00         1.00         1.00         1.00         7.00  \n",
       "\n",
       "[8 rows x 56 columns]"
      ]
     },
     "execution_count": 10,
     "metadata": {},
     "output_type": "execute_result"
    }
   ],
   "source": [
    "# 观察统计变量\n",
    "train_df.describe()"
   ]
  },
  {
   "cell_type": "code",
   "execution_count": 11,
   "id": "f3bfce90",
   "metadata": {
    "execution": {
     "iopub.execute_input": "2021-12-13T14:00:32.380438Z",
     "iopub.status.busy": "2021-12-13T14:00:32.379876Z",
     "iopub.status.idle": "2021-12-13T14:00:32.641982Z",
     "shell.execute_reply": "2021-12-13T14:00:32.641521Z",
     "shell.execute_reply.started": "2021-12-13T12:13:04.329598Z"
    },
    "papermill": {
     "duration": 0.318043,
     "end_time": "2021-12-13T14:00:32.642116",
     "exception": false,
     "start_time": "2021-12-13T14:00:32.324073",
     "status": "completed"
    },
    "tags": []
   },
   "outputs": [
    {
     "data": {
      "text/html": [
       "<div>\n",
       "<style scoped>\n",
       "    .dataframe tbody tr th:only-of-type {\n",
       "        vertical-align: middle;\n",
       "    }\n",
       "\n",
       "    .dataframe tbody tr th {\n",
       "        vertical-align: top;\n",
       "    }\n",
       "\n",
       "    .dataframe thead th {\n",
       "        text-align: right;\n",
       "    }\n",
       "</style>\n",
       "<table border=\"1\" class=\"dataframe\">\n",
       "  <thead>\n",
       "    <tr style=\"text-align: right;\">\n",
       "      <th></th>\n",
       "      <th>Hillshade_9am</th>\n",
       "      <th>Hillshade_Noon</th>\n",
       "      <th>Hillshade_3pm</th>\n",
       "    </tr>\n",
       "  </thead>\n",
       "  <tbody>\n",
       "    <tr>\n",
       "      <th>count</th>\n",
       "      <td>4,000,000.00</td>\n",
       "      <td>4,000,000.00</td>\n",
       "      <td>4,000,000.00</td>\n",
       "    </tr>\n",
       "    <tr>\n",
       "      <th>mean</th>\n",
       "      <td>211.84</td>\n",
       "      <td>221.06</td>\n",
       "      <td>140.81</td>\n",
       "    </tr>\n",
       "    <tr>\n",
       "      <th>std</th>\n",
       "      <td>30.76</td>\n",
       "      <td>22.23</td>\n",
       "      <td>43.70</td>\n",
       "    </tr>\n",
       "    <tr>\n",
       "      <th>min</th>\n",
       "      <td>-4.00</td>\n",
       "      <td>49.00</td>\n",
       "      <td>-53.00</td>\n",
       "    </tr>\n",
       "    <tr>\n",
       "      <th>25%</th>\n",
       "      <td>198.00</td>\n",
       "      <td>210.00</td>\n",
       "      <td>115.00</td>\n",
       "    </tr>\n",
       "    <tr>\n",
       "      <th>50%</th>\n",
       "      <td>218.00</td>\n",
       "      <td>224.00</td>\n",
       "      <td>142.00</td>\n",
       "    </tr>\n",
       "    <tr>\n",
       "      <th>75%</th>\n",
       "      <td>233.00</td>\n",
       "      <td>237.00</td>\n",
       "      <td>169.00</td>\n",
       "    </tr>\n",
       "    <tr>\n",
       "      <th>max</th>\n",
       "      <td>301.00</td>\n",
       "      <td>279.00</td>\n",
       "      <td>272.00</td>\n",
       "    </tr>\n",
       "  </tbody>\n",
       "</table>\n",
       "</div>"
      ],
      "text/plain": [
       "       Hillshade_9am  Hillshade_Noon  Hillshade_3pm\n",
       "count   4,000,000.00    4,000,000.00   4,000,000.00\n",
       "mean          211.84          221.06         140.81\n",
       "std            30.76           22.23          43.70\n",
       "min            -4.00           49.00         -53.00\n",
       "25%           198.00          210.00         115.00\n",
       "50%           218.00          224.00         142.00\n",
       "75%           233.00          237.00         169.00\n",
       "max           301.00          279.00         272.00"
      ]
     },
     "execution_count": 11,
     "metadata": {},
     "output_type": "execute_result"
    }
   ],
   "source": [
    "# 通过Hill Shade features进一步理解\n",
    "train_df[['Hillshade_9am','Hillshade_Noon','Hillshade_3pm']].describe()"
   ]
  },
  {
   "cell_type": "code",
   "execution_count": 12,
   "id": "04067737",
   "metadata": {
    "execution": {
     "iopub.execute_input": "2021-12-13T14:00:32.727603Z",
     "iopub.status.busy": "2021-12-13T14:00:32.726781Z",
     "iopub.status.idle": "2021-12-13T14:00:32.808336Z",
     "shell.execute_reply": "2021-12-13T14:00:32.808748Z",
     "shell.execute_reply.started": "2021-12-13T12:22:04.105454Z"
    },
    "papermill": {
     "duration": 0.131233,
     "end_time": "2021-12-13T14:00:32.808921",
     "exception": false,
     "start_time": "2021-12-13T14:00:32.677688",
     "status": "completed"
    },
    "tags": []
   },
   "outputs": [
    {
     "data": {
      "text/html": [
       "<div>\n",
       "<style scoped>\n",
       "    .dataframe tbody tr th:only-of-type {\n",
       "        vertical-align: middle;\n",
       "    }\n",
       "\n",
       "    .dataframe tbody tr th {\n",
       "        vertical-align: top;\n",
       "    }\n",
       "\n",
       "    .dataframe thead th {\n",
       "        text-align: right;\n",
       "    }\n",
       "</style>\n",
       "<table border=\"1\" class=\"dataframe\">\n",
       "  <thead>\n",
       "    <tr style=\"text-align: right;\">\n",
       "      <th></th>\n",
       "      <th>Soil_Type15</th>\n",
       "      <th>Soil_Type7</th>\n",
       "    </tr>\n",
       "  </thead>\n",
       "  <tbody>\n",
       "    <tr>\n",
       "      <th>count</th>\n",
       "      <td>4,000,000.00</td>\n",
       "      <td>4,000,000.00</td>\n",
       "    </tr>\n",
       "    <tr>\n",
       "      <th>mean</th>\n",
       "      <td>0.00</td>\n",
       "      <td>0.00</td>\n",
       "    </tr>\n",
       "    <tr>\n",
       "      <th>std</th>\n",
       "      <td>0.00</td>\n",
       "      <td>0.00</td>\n",
       "    </tr>\n",
       "    <tr>\n",
       "      <th>min</th>\n",
       "      <td>0.00</td>\n",
       "      <td>0.00</td>\n",
       "    </tr>\n",
       "    <tr>\n",
       "      <th>25%</th>\n",
       "      <td>0.00</td>\n",
       "      <td>0.00</td>\n",
       "    </tr>\n",
       "    <tr>\n",
       "      <th>50%</th>\n",
       "      <td>0.00</td>\n",
       "      <td>0.00</td>\n",
       "    </tr>\n",
       "    <tr>\n",
       "      <th>75%</th>\n",
       "      <td>0.00</td>\n",
       "      <td>0.00</td>\n",
       "    </tr>\n",
       "    <tr>\n",
       "      <th>max</th>\n",
       "      <td>0.00</td>\n",
       "      <td>0.00</td>\n",
       "    </tr>\n",
       "  </tbody>\n",
       "</table>\n",
       "</div>"
      ],
      "text/plain": [
       "       Soil_Type15   Soil_Type7\n",
       "count 4,000,000.00 4,000,000.00\n",
       "mean          0.00         0.00\n",
       "std           0.00         0.00\n",
       "min           0.00         0.00\n",
       "25%           0.00         0.00\n",
       "50%           0.00         0.00\n",
       "75%           0.00         0.00\n",
       "max           0.00         0.00"
      ]
     },
     "execution_count": 12,
     "metadata": {},
     "output_type": "execute_result"
    }
   ],
   "source": [
    "# 观察Soil_Type15 和 Soil_Type7\n",
    "train_df[['Soil_Type15','Soil_Type7']].describe()"
   ]
  },
  {
   "cell_type": "code",
   "execution_count": 13,
   "id": "86a3c2a4",
   "metadata": {
    "execution": {
     "iopub.execute_input": "2021-12-13T14:00:32.890638Z",
     "iopub.status.busy": "2021-12-13T14:00:32.889857Z",
     "iopub.status.idle": "2021-12-13T14:00:32.893136Z",
     "shell.execute_reply": "2021-12-13T14:00:32.893527Z",
     "shell.execute_reply.started": "2021-12-13T12:16:44.566443Z"
    },
    "papermill": {
     "duration": 0.049881,
     "end_time": "2021-12-13T14:00:32.893676",
     "exception": false,
     "start_time": "2021-12-13T14:00:32.843795",
     "status": "completed"
    },
    "tags": []
   },
   "outputs": [
    {
     "name": "stdout",
     "output_type": "stream",
     "text": [
      "<class 'pandas.core.frame.DataFrame'>\n",
      "RangeIndex: 4000000 entries, 0 to 3999999\n",
      "Columns: 56 entries, Id to Cover_Type\n",
      "dtypes: int16(9), int32(1), int8(46)\n",
      "memory usage: 259.4 MB\n"
     ]
    }
   ],
   "source": [
    "# 观察一些指标\n",
    "train_df.info(max_cols = 15)"
   ]
  },
  {
   "cell_type": "code",
   "execution_count": 14,
   "id": "0e36537c",
   "metadata": {
    "execution": {
     "iopub.execute_input": "2021-12-13T14:00:32.972393Z",
     "iopub.status.busy": "2021-12-13T14:00:32.970940Z",
     "iopub.status.idle": "2021-12-13T14:00:33.209280Z",
     "shell.execute_reply": "2021-12-13T14:00:33.209663Z",
     "shell.execute_reply.started": "2021-12-13T12:17:23.331152Z"
    },
    "papermill": {
     "duration": 0.279229,
     "end_time": "2021-12-13T14:00:33.209822",
     "exception": false,
     "start_time": "2021-12-13T14:00:32.930593",
     "status": "completed"
    },
    "tags": []
   },
   "outputs": [
    {
     "data": {
      "text/plain": [
       "Id                                  0\n",
       "Elevation                           0\n",
       "Aspect                              0\n",
       "Slope                               0\n",
       "Horizontal_Distance_To_Hydrology    0\n",
       "                                   ..\n",
       "Soil_Type37                         0\n",
       "Soil_Type38                         0\n",
       "Soil_Type39                         0\n",
       "Soil_Type40                         0\n",
       "Cover_Type                          0\n",
       "Length: 56, dtype: int64"
      ]
     },
     "execution_count": 14,
     "metadata": {},
     "output_type": "execute_result"
    }
   ],
   "source": [
    "# 观察有没有丢失数据\n",
    "train_df.isnull().sum()"
   ]
  },
  {
   "cell_type": "markdown",
   "id": "c957e72f",
   "metadata": {
    "papermill": {
     "duration": 0.035536,
     "end_time": "2021-12-13T14:00:33.280904",
     "exception": false,
     "start_time": "2021-12-13T14:00:33.245368",
     "status": "completed"
    },
    "tags": []
   },
   "source": [
    "**Notes:** There is no **Null** or **NaN** values in the dataset, this make it easier to start training a model without gettin into filling missing values..."
   ]
  },
  {
   "cell_type": "code",
   "execution_count": 15,
   "id": "4ccf333b",
   "metadata": {
    "execution": {
     "iopub.execute_input": "2021-12-13T14:00:33.374424Z",
     "iopub.status.busy": "2021-12-13T14:00:33.373809Z",
     "iopub.status.idle": "2021-12-13T14:00:34.360081Z",
     "shell.execute_reply": "2021-12-13T14:00:34.359554Z",
     "shell.execute_reply.started": "2021-12-13T12:22:10.887706Z"
    },
    "papermill": {
     "duration": 1.043717,
     "end_time": "2021-12-13T14:00:34.360210",
     "exception": false,
     "start_time": "2021-12-13T14:00:33.316493",
     "status": "completed"
    },
    "tags": []
   },
   "outputs": [
    {
     "data": {
      "text/html": [
       "        <script type=\"text/javascript\">\n",
       "        window.PlotlyConfig = {MathJaxConfig: 'local'};\n",
       "        if (window.MathJax) {MathJax.Hub.Config({SVG: {font: \"STIX-Web\"}});}\n",
       "        if (typeof require !== 'undefined') {\n",
       "        require.undef(\"plotly\");\n",
       "        requirejs.config({\n",
       "            paths: {\n",
       "                'plotly': ['https://cdn.plot.ly/plotly-2.6.3.min']\n",
       "            }\n",
       "        });\n",
       "        require(['plotly'], function(Plotly) {\n",
       "            window._Plotly = Plotly;\n",
       "        });\n",
       "        }\n",
       "        </script>\n",
       "        "
      ]
     },
     "metadata": {},
     "output_type": "display_data"
    },
    {
     "data": {
      "text/html": [
       "<div>                            <div id=\"efcfd768-56de-4841-91c1-f9901259286b\" class=\"plotly-graph-div\" style=\"height:400px; width:700px;\"></div>            <script type=\"text/javascript\">                require([\"plotly\"], function(Plotly) {                    window.PLOTLYENV=window.PLOTLYENV || {};                                    if (document.getElementById(\"efcfd768-56de-4841-91c1-f9901259286b\")) {                    Plotly.newPlot(                        \"efcfd768-56de-4841-91c1-f9901259286b\",                        [{\"alignmentgroup\":\"True\",\"hovertemplate\":\"Cover_Type=%{x}<br>count=%{marker.color}<extra></extra>\",\"legendgroup\":\"\",\"marker\":{\"color\":[2262087,1468136,195712,62261,11426,377,1],\"coloraxis\":\"coloraxis\",\"pattern\":{\"shape\":\"\"}},\"name\":\"\",\"offsetgroup\":\"\",\"orientation\":\"v\",\"showlegend\":false,\"textposition\":\"auto\",\"x\":[2,1,3,7,6,4,5],\"xaxis\":\"x\",\"y\":[2262087,1468136,195712,62261,11426,377,1],\"yaxis\":\"y\",\"type\":\"bar\"}],                        {\"template\":{\"data\":{\"bar\":[{\"error_x\":{\"color\":\"#2a3f5f\"},\"error_y\":{\"color\":\"#2a3f5f\"},\"marker\":{\"line\":{\"color\":\"#E5ECF6\",\"width\":0.5},\"pattern\":{\"fillmode\":\"overlay\",\"size\":10,\"solidity\":0.2}},\"type\":\"bar\"}],\"barpolar\":[{\"marker\":{\"line\":{\"color\":\"#E5ECF6\",\"width\":0.5},\"pattern\":{\"fillmode\":\"overlay\",\"size\":10,\"solidity\":0.2}},\"type\":\"barpolar\"}],\"carpet\":[{\"aaxis\":{\"endlinecolor\":\"#2a3f5f\",\"gridcolor\":\"white\",\"linecolor\":\"white\",\"minorgridcolor\":\"white\",\"startlinecolor\":\"#2a3f5f\"},\"baxis\":{\"endlinecolor\":\"#2a3f5f\",\"gridcolor\":\"white\",\"linecolor\":\"white\",\"minorgridcolor\":\"white\",\"startlinecolor\":\"#2a3f5f\"},\"type\":\"carpet\"}],\"choropleth\":[{\"colorbar\":{\"outlinewidth\":0,\"ticks\":\"\"},\"type\":\"choropleth\"}],\"contour\":[{\"colorbar\":{\"outlinewidth\":0,\"ticks\":\"\"},\"colorscale\":[[0.0,\"#0d0887\"],[0.1111111111111111,\"#46039f\"],[0.2222222222222222,\"#7201a8\"],[0.3333333333333333,\"#9c179e\"],[0.4444444444444444,\"#bd3786\"],[0.5555555555555556,\"#d8576b\"],[0.6666666666666666,\"#ed7953\"],[0.7777777777777778,\"#fb9f3a\"],[0.8888888888888888,\"#fdca26\"],[1.0,\"#f0f921\"]],\"type\":\"contour\"}],\"contourcarpet\":[{\"colorbar\":{\"outlinewidth\":0,\"ticks\":\"\"},\"type\":\"contourcarpet\"}],\"heatmap\":[{\"colorbar\":{\"outlinewidth\":0,\"ticks\":\"\"},\"colorscale\":[[0.0,\"#0d0887\"],[0.1111111111111111,\"#46039f\"],[0.2222222222222222,\"#7201a8\"],[0.3333333333333333,\"#9c179e\"],[0.4444444444444444,\"#bd3786\"],[0.5555555555555556,\"#d8576b\"],[0.6666666666666666,\"#ed7953\"],[0.7777777777777778,\"#fb9f3a\"],[0.8888888888888888,\"#fdca26\"],[1.0,\"#f0f921\"]],\"type\":\"heatmap\"}],\"heatmapgl\":[{\"colorbar\":{\"outlinewidth\":0,\"ticks\":\"\"},\"colorscale\":[[0.0,\"#0d0887\"],[0.1111111111111111,\"#46039f\"],[0.2222222222222222,\"#7201a8\"],[0.3333333333333333,\"#9c179e\"],[0.4444444444444444,\"#bd3786\"],[0.5555555555555556,\"#d8576b\"],[0.6666666666666666,\"#ed7953\"],[0.7777777777777778,\"#fb9f3a\"],[0.8888888888888888,\"#fdca26\"],[1.0,\"#f0f921\"]],\"type\":\"heatmapgl\"}],\"histogram\":[{\"marker\":{\"pattern\":{\"fillmode\":\"overlay\",\"size\":10,\"solidity\":0.2}},\"type\":\"histogram\"}],\"histogram2d\":[{\"colorbar\":{\"outlinewidth\":0,\"ticks\":\"\"},\"colorscale\":[[0.0,\"#0d0887\"],[0.1111111111111111,\"#46039f\"],[0.2222222222222222,\"#7201a8\"],[0.3333333333333333,\"#9c179e\"],[0.4444444444444444,\"#bd3786\"],[0.5555555555555556,\"#d8576b\"],[0.6666666666666666,\"#ed7953\"],[0.7777777777777778,\"#fb9f3a\"],[0.8888888888888888,\"#fdca26\"],[1.0,\"#f0f921\"]],\"type\":\"histogram2d\"}],\"histogram2dcontour\":[{\"colorbar\":{\"outlinewidth\":0,\"ticks\":\"\"},\"colorscale\":[[0.0,\"#0d0887\"],[0.1111111111111111,\"#46039f\"],[0.2222222222222222,\"#7201a8\"],[0.3333333333333333,\"#9c179e\"],[0.4444444444444444,\"#bd3786\"],[0.5555555555555556,\"#d8576b\"],[0.6666666666666666,\"#ed7953\"],[0.7777777777777778,\"#fb9f3a\"],[0.8888888888888888,\"#fdca26\"],[1.0,\"#f0f921\"]],\"type\":\"histogram2dcontour\"}],\"mesh3d\":[{\"colorbar\":{\"outlinewidth\":0,\"ticks\":\"\"},\"type\":\"mesh3d\"}],\"parcoords\":[{\"line\":{\"colorbar\":{\"outlinewidth\":0,\"ticks\":\"\"}},\"type\":\"parcoords\"}],\"pie\":[{\"automargin\":true,\"type\":\"pie\"}],\"scatter\":[{\"marker\":{\"colorbar\":{\"outlinewidth\":0,\"ticks\":\"\"}},\"type\":\"scatter\"}],\"scatter3d\":[{\"line\":{\"colorbar\":{\"outlinewidth\":0,\"ticks\":\"\"}},\"marker\":{\"colorbar\":{\"outlinewidth\":0,\"ticks\":\"\"}},\"type\":\"scatter3d\"}],\"scattercarpet\":[{\"marker\":{\"colorbar\":{\"outlinewidth\":0,\"ticks\":\"\"}},\"type\":\"scattercarpet\"}],\"scattergeo\":[{\"marker\":{\"colorbar\":{\"outlinewidth\":0,\"ticks\":\"\"}},\"type\":\"scattergeo\"}],\"scattergl\":[{\"marker\":{\"colorbar\":{\"outlinewidth\":0,\"ticks\":\"\"}},\"type\":\"scattergl\"}],\"scattermapbox\":[{\"marker\":{\"colorbar\":{\"outlinewidth\":0,\"ticks\":\"\"}},\"type\":\"scattermapbox\"}],\"scatterpolar\":[{\"marker\":{\"colorbar\":{\"outlinewidth\":0,\"ticks\":\"\"}},\"type\":\"scatterpolar\"}],\"scatterpolargl\":[{\"marker\":{\"colorbar\":{\"outlinewidth\":0,\"ticks\":\"\"}},\"type\":\"scatterpolargl\"}],\"scatterternary\":[{\"marker\":{\"colorbar\":{\"outlinewidth\":0,\"ticks\":\"\"}},\"type\":\"scatterternary\"}],\"surface\":[{\"colorbar\":{\"outlinewidth\":0,\"ticks\":\"\"},\"colorscale\":[[0.0,\"#0d0887\"],[0.1111111111111111,\"#46039f\"],[0.2222222222222222,\"#7201a8\"],[0.3333333333333333,\"#9c179e\"],[0.4444444444444444,\"#bd3786\"],[0.5555555555555556,\"#d8576b\"],[0.6666666666666666,\"#ed7953\"],[0.7777777777777778,\"#fb9f3a\"],[0.8888888888888888,\"#fdca26\"],[1.0,\"#f0f921\"]],\"type\":\"surface\"}],\"table\":[{\"cells\":{\"fill\":{\"color\":\"#EBF0F8\"},\"line\":{\"color\":\"white\"}},\"header\":{\"fill\":{\"color\":\"#C8D4E3\"},\"line\":{\"color\":\"white\"}},\"type\":\"table\"}]},\"layout\":{\"annotationdefaults\":{\"arrowcolor\":\"#2a3f5f\",\"arrowhead\":0,\"arrowwidth\":1},\"autotypenumbers\":\"strict\",\"coloraxis\":{\"colorbar\":{\"outlinewidth\":0,\"ticks\":\"\"}},\"colorscale\":{\"diverging\":[[0,\"#8e0152\"],[0.1,\"#c51b7d\"],[0.2,\"#de77ae\"],[0.3,\"#f1b6da\"],[0.4,\"#fde0ef\"],[0.5,\"#f7f7f7\"],[0.6,\"#e6f5d0\"],[0.7,\"#b8e186\"],[0.8,\"#7fbc41\"],[0.9,\"#4d9221\"],[1,\"#276419\"]],\"sequential\":[[0.0,\"#0d0887\"],[0.1111111111111111,\"#46039f\"],[0.2222222222222222,\"#7201a8\"],[0.3333333333333333,\"#9c179e\"],[0.4444444444444444,\"#bd3786\"],[0.5555555555555556,\"#d8576b\"],[0.6666666666666666,\"#ed7953\"],[0.7777777777777778,\"#fb9f3a\"],[0.8888888888888888,\"#fdca26\"],[1.0,\"#f0f921\"]],\"sequentialminus\":[[0.0,\"#0d0887\"],[0.1111111111111111,\"#46039f\"],[0.2222222222222222,\"#7201a8\"],[0.3333333333333333,\"#9c179e\"],[0.4444444444444444,\"#bd3786\"],[0.5555555555555556,\"#d8576b\"],[0.6666666666666666,\"#ed7953\"],[0.7777777777777778,\"#fb9f3a\"],[0.8888888888888888,\"#fdca26\"],[1.0,\"#f0f921\"]]},\"colorway\":[\"#636efa\",\"#EF553B\",\"#00cc96\",\"#ab63fa\",\"#FFA15A\",\"#19d3f3\",\"#FF6692\",\"#B6E880\",\"#FF97FF\",\"#FECB52\"],\"font\":{\"color\":\"#2a3f5f\"},\"geo\":{\"bgcolor\":\"white\",\"lakecolor\":\"white\",\"landcolor\":\"#E5ECF6\",\"showlakes\":true,\"showland\":true,\"subunitcolor\":\"white\"},\"hoverlabel\":{\"align\":\"left\"},\"hovermode\":\"closest\",\"mapbox\":{\"style\":\"light\"},\"paper_bgcolor\":\"white\",\"plot_bgcolor\":\"#E5ECF6\",\"polar\":{\"angularaxis\":{\"gridcolor\":\"white\",\"linecolor\":\"white\",\"ticks\":\"\"},\"bgcolor\":\"#E5ECF6\",\"radialaxis\":{\"gridcolor\":\"white\",\"linecolor\":\"white\",\"ticks\":\"\"}},\"scene\":{\"xaxis\":{\"backgroundcolor\":\"#E5ECF6\",\"gridcolor\":\"white\",\"gridwidth\":2,\"linecolor\":\"white\",\"showbackground\":true,\"ticks\":\"\",\"zerolinecolor\":\"white\"},\"yaxis\":{\"backgroundcolor\":\"#E5ECF6\",\"gridcolor\":\"white\",\"gridwidth\":2,\"linecolor\":\"white\",\"showbackground\":true,\"ticks\":\"\",\"zerolinecolor\":\"white\"},\"zaxis\":{\"backgroundcolor\":\"#E5ECF6\",\"gridcolor\":\"white\",\"gridwidth\":2,\"linecolor\":\"white\",\"showbackground\":true,\"ticks\":\"\",\"zerolinecolor\":\"white\"}},\"shapedefaults\":{\"line\":{\"color\":\"#2a3f5f\"}},\"ternary\":{\"aaxis\":{\"gridcolor\":\"white\",\"linecolor\":\"white\",\"ticks\":\"\"},\"baxis\":{\"gridcolor\":\"white\",\"linecolor\":\"white\",\"ticks\":\"\"},\"bgcolor\":\"#E5ECF6\",\"caxis\":{\"gridcolor\":\"white\",\"linecolor\":\"white\",\"ticks\":\"\"}},\"title\":{\"x\":0.05},\"xaxis\":{\"automargin\":true,\"gridcolor\":\"white\",\"linecolor\":\"white\",\"ticks\":\"\",\"title\":{\"standoff\":15},\"zerolinecolor\":\"white\",\"zerolinewidth\":2},\"yaxis\":{\"automargin\":true,\"gridcolor\":\"white\",\"linecolor\":\"white\",\"ticks\":\"\",\"title\":{\"standoff\":15},\"zerolinecolor\":\"white\",\"zerolinewidth\":2}}},\"xaxis\":{\"anchor\":\"y\",\"domain\":[0.0,1.0],\"title\":{\"text\":\"Cover_Type\"}},\"yaxis\":{\"anchor\":\"x\",\"domain\":[0.0,1.0],\"title\":{\"text\":\"count\"}},\"coloraxis\":{\"colorbar\":{\"title\":{\"text\":\"count\"}},\"colorscale\":[[0.0,\"rgb(211, 242, 163)\"],[0.16666666666666666,\"rgb(151, 225, 150)\"],[0.3333333333333333,\"rgb(108, 192, 139)\"],[0.5,\"rgb(76, 155, 130)\"],[0.6666666666666666,\"rgb(33, 122, 121)\"],[0.8333333333333334,\"rgb(16, 89, 101)\"],[1.0,\"rgb(7, 64, 80)\"]]},\"legend\":{\"tracegroupgap\":0},\"margin\":{\"t\":60},\"barmode\":\"relative\",\"height\":400,\"width\":700},                        {\"responsive\": true}                    ).then(function(){\n",
       "                            \n",
       "var gd = document.getElementById('efcfd768-56de-4841-91c1-f9901259286b');\n",
       "var x = new MutationObserver(function (mutations, observer) {{\n",
       "        var display = window.getComputedStyle(gd).display;\n",
       "        if (!display || display === 'none') {{\n",
       "            console.log([gd, 'removed!']);\n",
       "            Plotly.purge(gd);\n",
       "            observer.disconnect();\n",
       "        }}\n",
       "}});\n",
       "\n",
       "// Listen for the removal of the full notebook cells\n",
       "var notebookContainer = gd.closest('#notebook-container');\n",
       "if (notebookContainer) {{\n",
       "    x.observe(notebookContainer, {childList: true});\n",
       "}}\n",
       "\n",
       "// Listen for the clearing of the current output cell\n",
       "var outputEl = gd.closest('.output');\n",
       "if (outputEl) {{\n",
       "    x.observe(outputEl, {childList: true});\n",
       "}}\n",
       "\n",
       "                        })                };                });            </script>        </div>"
      ]
     },
     "metadata": {},
     "output_type": "display_data"
    }
   ],
   "source": [
    "# 可视化目标分布\n",
    "target_df = pd.DataFrame(train_df['Cover_Type'].value_counts()).reset_index()\n",
    "target_df.columns = ['Cover_Type', 'count']\n",
    "fig = px.bar(data_frame =target_df, x = 'Cover_Type', y = 'count', color = \"count\", \n",
    "             color_continuous_scale = \"Emrld\", width=700, height=400)\n",
    "fig.show()"
   ]
  },
  {
   "cell_type": "code",
   "execution_count": 16,
   "id": "31c76202",
   "metadata": {
    "execution": {
     "iopub.execute_input": "2021-12-13T14:00:34.440065Z",
     "iopub.status.busy": "2021-12-13T14:00:34.439470Z",
     "iopub.status.idle": "2021-12-13T14:00:34.449148Z",
     "shell.execute_reply": "2021-12-13T14:00:34.449559Z",
     "shell.execute_reply.started": "2021-12-13T12:25:50.681388Z"
    },
    "papermill": {
     "duration": 0.052181,
     "end_time": "2021-12-13T14:00:34.449687",
     "exception": false,
     "start_time": "2021-12-13T14:00:34.397506",
     "status": "completed"
    },
    "tags": []
   },
   "outputs": [
    {
     "data": {
      "text/html": [
       "<div>\n",
       "<style scoped>\n",
       "    .dataframe tbody tr th:only-of-type {\n",
       "        vertical-align: middle;\n",
       "    }\n",
       "\n",
       "    .dataframe tbody tr th {\n",
       "        vertical-align: top;\n",
       "    }\n",
       "\n",
       "    .dataframe thead th {\n",
       "        text-align: right;\n",
       "    }\n",
       "</style>\n",
       "<table border=\"1\" class=\"dataframe\">\n",
       "  <thead>\n",
       "    <tr style=\"text-align: right;\">\n",
       "      <th></th>\n",
       "      <th>Cover_Type</th>\n",
       "      <th>count</th>\n",
       "    </tr>\n",
       "  </thead>\n",
       "  <tbody>\n",
       "    <tr>\n",
       "      <th>0</th>\n",
       "      <td>1</td>\n",
       "      <td>1468136</td>\n",
       "    </tr>\n",
       "    <tr>\n",
       "      <th>1</th>\n",
       "      <td>2</td>\n",
       "      <td>2262087</td>\n",
       "    </tr>\n",
       "    <tr>\n",
       "      <th>2</th>\n",
       "      <td>3</td>\n",
       "      <td>195712</td>\n",
       "    </tr>\n",
       "    <tr>\n",
       "      <th>3</th>\n",
       "      <td>4</td>\n",
       "      <td>377</td>\n",
       "    </tr>\n",
       "    <tr>\n",
       "      <th>4</th>\n",
       "      <td>5</td>\n",
       "      <td>1</td>\n",
       "    </tr>\n",
       "    <tr>\n",
       "      <th>5</th>\n",
       "      <td>6</td>\n",
       "      <td>11426</td>\n",
       "    </tr>\n",
       "    <tr>\n",
       "      <th>6</th>\n",
       "      <td>7</td>\n",
       "      <td>62261</td>\n",
       "    </tr>\n",
       "  </tbody>\n",
       "</table>\n",
       "</div>"
      ],
      "text/plain": [
       "   Cover_Type    count\n",
       "0           1  1468136\n",
       "1           2  2262087\n",
       "2           3   195712\n",
       "3           4      377\n",
       "4           5        1\n",
       "5           6    11426\n",
       "6           7    62261"
      ]
     },
     "execution_count": 16,
     "metadata": {},
     "output_type": "execute_result"
    }
   ],
   "source": [
    "# 多少数据是可用的\n",
    "target_df.groupby('Cover_Type').sum().reset_index()"
   ]
  },
  {
   "cell_type": "markdown",
   "id": "b7df4756",
   "metadata": {
    "papermill": {
     "duration": 0.036366,
     "end_time": "2021-12-13T14:00:34.523310",
     "exception": false,
     "start_time": "2021-12-13T14:00:34.486944",
     "status": "completed"
    },
    "tags": []
   },
   "source": [
    "\n",
    "**Notes:** The target distribution in the dataset is unbalanced, we will train a baseline model and then build small improvements over time, in the following sections..."
   ]
  },
  {
   "cell_type": "markdown",
   "id": "cdd18112",
   "metadata": {
    "papermill": {
     "duration": 0.036345,
     "end_time": "2021-12-13T14:00:34.596437",
     "exception": false,
     "start_time": "2021-12-13T14:00:34.560092",
     "status": "completed"
    },
    "tags": []
   },
   "source": [
    "<a id='4'></a>\n",
    "# 3.0- 特征工程\n",
    "更简单的模型更容易理解，可以作为好的基线模型"
   ]
  },
  {
   "cell_type": "code",
   "execution_count": 17,
   "id": "80b03b4c",
   "metadata": {
    "execution": {
     "iopub.execute_input": "2021-12-13T14:00:34.680227Z",
     "iopub.status.busy": "2021-12-13T14:00:34.677533Z",
     "iopub.status.idle": "2021-12-13T14:00:34.682353Z",
     "shell.execute_reply": "2021-12-13T14:00:34.681941Z",
     "shell.execute_reply.started": "2021-12-13T12:37:22.788352Z"
    },
    "papermill": {
     "duration": 0.049118,
     "end_time": "2021-12-13T14:00:34.682460",
     "exception": false,
     "start_time": "2021-12-13T14:00:34.633342",
     "status": "completed"
    },
    "tags": []
   },
   "outputs": [],
   "source": [
    "# Define fuctions to construct new features for the model.\n",
    "\n",
    "def euclidean_dist(df, horz_dist, vert_dist, feature_name):\n",
    "    \"\"\"\n",
    "    Calculates the Euclidean distance based on horz. and vert. distance...\n",
    "    Args:\n",
    "        df (DataFrame)    : Input dataframe to add the new feature.\n",
    "        horz_dist (str)   : Name of the horizontal distance field in the dataframe.\n",
    "        vert_dist (str)   : Name of the vertical distance field in the dataframe.\n",
    "        feature_name (str): Name of the new created field in the dataframe.\n",
    "    Returns:\n",
    "        df (DataFrame)    : Dataframe populated with the new feature.\n",
    "    \"\"\"\n",
    "    \n",
    "    df[feature_name] = np.sqrt(df[horz_dist] ** 2 + df[vert_dist] ** 2)\n",
    "    return df\n",
    "        \n",
    "def correct_azimut(df):\n",
    "    \"\"\"\n",
    "    Corrects the azimut to be withing 0 - 360 degrees\n",
    "    Args:\n",
    "        df (DataFrame): Input dataframe that we need to correct.\n",
    "    \n",
    "    Returns:\n",
    "        df (DataFrame): Dataframe with the feature ranges corrected.\n",
    "    \"\"\"\n",
    "    \n",
    "    df[\"Aspect\"][df[\"Aspect\"] < 0] += 360\n",
    "    df[\"Aspect\"][df[\"Aspect\"] > 359] -= 360\n",
    "    return df\n",
    "\n",
    "\n",
    "def correct_hillshade(df):\n",
    "    \"\"\"\n",
    "    Corrects the Hillshade values from 0 - 255\n",
    "    Args:\n",
    "        df (DataFrame): Input dataframe that we need to correct.\n",
    "    \n",
    "    Returns:\n",
    "        df (DataFrame): Dataframe with the feature ranges corrected.\n",
    "    \"\"\"\n",
    "    \n",
    "    for feat in df.columns:\n",
    "        if 'Hillshade' in feat:\n",
    "            train_df.loc[train_df[feat] < 0, feat] = 0\n",
    "            train_df.loc[train_df[feat] > 255, feat] = 255\n",
    "    return df\n",
    "\n",
    "\n",
    "def count_diversity(df, feature_group_name = 'soil_type'):\n",
    "    \"\"\"\n",
    "    Counts the diversity for example different types of soils in the training row\n",
    "    Args:\n",
    "        df (Dataframe): Input dataframe for the feature creation.\n",
    "        feature_group_name (str): Name of the group in the dataframe that we will be counting.\n",
    "        \n",
    "    Returns:\n",
    "        df (Dataframe): Dataframe populated with the new feature.\n",
    "    \"\"\"\n",
    "    \n",
    "    features_group = [x for x in df.columns if x.startswith(feature_group_name)]\n",
    "    df[feature_group_name + \"_Count\"] = df[features_group].sum(axis=1)\n",
    "    return df\n",
    "\n",
    "\n",
    "def remove_cover_type(df, cover_value = 5):\n",
    "    \"\"\"\n",
    "    Remove the selected cover type, Because min. amount of train information.\n",
    "    \n",
    "    Args:\n",
    "        df (Dataframe): Input dataframe to be processed.\n",
    "        cover_value (int): Value of the cover that needs to be removed from the DataFrame.\n",
    "    \n",
    "    Returns:\n",
    "        df (Dataframe): Dataframe without the selected cover_value.\n",
    "    \"\"\"\n",
    "    \n",
    "    df = df[df['Cover_Type'] != cover_value]\n",
    "    return df"
   ]
  },
  {
   "cell_type": "code",
   "execution_count": 18,
   "id": "35b3b312",
   "metadata": {
    "execution": {
     "iopub.execute_input": "2021-12-13T14:00:34.762842Z",
     "iopub.status.busy": "2021-12-13T14:00:34.761565Z",
     "iopub.status.idle": "2021-12-13T14:00:35.618483Z",
     "shell.execute_reply": "2021-12-13T14:00:35.617813Z",
     "shell.execute_reply.started": "2021-12-13T12:37:25.641265Z"
    },
    "papermill": {
     "duration": 0.898509,
     "end_time": "2021-12-13T14:00:35.618630",
     "exception": false,
     "start_time": "2021-12-13T14:00:34.720121",
     "status": "completed"
    },
    "tags": []
   },
   "outputs": [],
   "source": [
    "# 建立新的特征值\n",
    "train_df = euclidean_dist(train_df, 'Horizontal_Distance_To_Hydrology','Vertical_Distance_To_Hydrology', 'Euclidean_Distance_To_Hydrology')\n",
    "# 加权\n",
    "train_df = correct_azimut(train_df)\n",
    "train_df = correct_hillshade(train_df)\n",
    "# 建立其他特征值\n",
    "train_df = count_diversity(train_df, feature_group_name = 'Soil_Type')\n",
    "train_df = count_diversity(train_df, feature_group_name = 'Wilderness_Area')\n",
    "# 因为只有一个例子，把conver_type = 5 移开\n",
    "train_df = remove_cover_type(train_df)"
   ]
  },
  {
   "cell_type": "code",
   "execution_count": 19,
   "id": "6840d1c3",
   "metadata": {
    "execution": {
     "iopub.execute_input": "2021-12-13T14:00:35.696286Z",
     "iopub.status.busy": "2021-12-13T14:00:35.695495Z",
     "iopub.status.idle": "2021-12-13T14:00:35.846239Z",
     "shell.execute_reply": "2021-12-13T14:00:35.845686Z",
     "shell.execute_reply.started": "2021-12-13T12:38:22.334726Z"
    },
    "papermill": {
     "duration": 0.190119,
     "end_time": "2021-12-13T14:00:35.846371",
     "exception": false,
     "start_time": "2021-12-13T14:00:35.656252",
     "status": "completed"
    },
    "tags": []
   },
   "outputs": [],
   "source": [
    "# 建立新的特征值\n",
    "test_df = euclidean_dist(test_df, 'Horizontal_Distance_To_Hydrology','Vertical_Distance_To_Hydrology', 'Euclidean_Distance_To_Hydrology')\n",
    "# 加权\n",
    "test_df = correct_azimut(test_df)\n",
    "test_df = correct_hillshade(test_df)\n",
    "# 建立其他特征值\n",
    "test_df = count_diversity(test_df, feature_group_name = 'Soil_Type')\n",
    "test_df = count_diversity(test_df, feature_group_name = 'Wilderness_Area')"
   ]
  },
  {
   "cell_type": "code",
   "execution_count": 20,
   "id": "44ef4bff",
   "metadata": {
    "execution": {
     "iopub.execute_input": "2021-12-13T14:00:35.930691Z",
     "iopub.status.busy": "2021-12-13T14:00:35.930029Z",
     "iopub.status.idle": "2021-12-13T14:00:36.055724Z",
     "shell.execute_reply": "2021-12-13T14:00:36.056173Z",
     "shell.execute_reply.started": "2021-12-13T12:38:41.700253Z"
    },
    "papermill": {
     "duration": 0.171931,
     "end_time": "2021-12-13T14:00:36.056327",
     "exception": false,
     "start_time": "2021-12-13T14:00:35.884396",
     "status": "completed"
    },
    "tags": []
   },
   "outputs": [
    {
     "data": {
      "text/html": [
       "<div>\n",
       "<style scoped>\n",
       "    .dataframe tbody tr th:only-of-type {\n",
       "        vertical-align: middle;\n",
       "    }\n",
       "\n",
       "    .dataframe tbody tr th {\n",
       "        vertical-align: top;\n",
       "    }\n",
       "\n",
       "    .dataframe thead th {\n",
       "        text-align: right;\n",
       "    }\n",
       "</style>\n",
       "<table border=\"1\" class=\"dataframe\">\n",
       "  <thead>\n",
       "    <tr style=\"text-align: right;\">\n",
       "      <th></th>\n",
       "      <th>Id</th>\n",
       "      <th>Elevation</th>\n",
       "      <th>Aspect</th>\n",
       "      <th>Slope</th>\n",
       "      <th>Horizontal_Distance_To_Hydrology</th>\n",
       "      <th>Vertical_Distance_To_Hydrology</th>\n",
       "      <th>Horizontal_Distance_To_Roadways</th>\n",
       "      <th>...</th>\n",
       "      <th>Soil_Type38</th>\n",
       "      <th>Soil_Type39</th>\n",
       "      <th>Soil_Type40</th>\n",
       "      <th>Cover_Type</th>\n",
       "      <th>Euclidean_Distance_To_Hydrology</th>\n",
       "      <th>Soil_Type_Count</th>\n",
       "      <th>Wilderness_Area_Count</th>\n",
       "    </tr>\n",
       "  </thead>\n",
       "  <tbody>\n",
       "    <tr>\n",
       "      <th>382060</th>\n",
       "      <td>382060</td>\n",
       "      <td>3411</td>\n",
       "      <td>111</td>\n",
       "      <td>15</td>\n",
       "      <td>345</td>\n",
       "      <td>29</td>\n",
       "      <td>1871</td>\n",
       "      <td>...</td>\n",
       "      <td>0</td>\n",
       "      <td>0</td>\n",
       "      <td>0</td>\n",
       "      <td>1</td>\n",
       "      <td>NaN</td>\n",
       "      <td>1</td>\n",
       "      <td>1</td>\n",
       "    </tr>\n",
       "    <tr>\n",
       "      <th>3153903</th>\n",
       "      <td>3153903</td>\n",
       "      <td>3028</td>\n",
       "      <td>209</td>\n",
       "      <td>9</td>\n",
       "      <td>106</td>\n",
       "      <td>41</td>\n",
       "      <td>2059</td>\n",
       "      <td>...</td>\n",
       "      <td>0</td>\n",
       "      <td>0</td>\n",
       "      <td>1</td>\n",
       "      <td>1</td>\n",
       "      <td>113.65</td>\n",
       "      <td>2</td>\n",
       "      <td>0</td>\n",
       "    </tr>\n",
       "    <tr>\n",
       "      <th>2797641</th>\n",
       "      <td>2797641</td>\n",
       "      <td>3211</td>\n",
       "      <td>26</td>\n",
       "      <td>36</td>\n",
       "      <td>49</td>\n",
       "      <td>383</td>\n",
       "      <td>2047</td>\n",
       "      <td>...</td>\n",
       "      <td>0</td>\n",
       "      <td>0</td>\n",
       "      <td>0</td>\n",
       "      <td>2</td>\n",
       "      <td>134.23</td>\n",
       "      <td>0</td>\n",
       "      <td>1</td>\n",
       "    </tr>\n",
       "    <tr>\n",
       "      <th>655981</th>\n",
       "      <td>655981</td>\n",
       "      <td>2703</td>\n",
       "      <td>153</td>\n",
       "      <td>25</td>\n",
       "      <td>150</td>\n",
       "      <td>97</td>\n",
       "      <td>1075</td>\n",
       "      <td>...</td>\n",
       "      <td>0</td>\n",
       "      <td>0</td>\n",
       "      <td>0</td>\n",
       "      <td>2</td>\n",
       "      <td>178.63</td>\n",
       "      <td>0</td>\n",
       "      <td>1</td>\n",
       "    </tr>\n",
       "    <tr>\n",
       "      <th>3828362</th>\n",
       "      <td>3828362</td>\n",
       "      <td>2960</td>\n",
       "      <td>36</td>\n",
       "      <td>7</td>\n",
       "      <td>55</td>\n",
       "      <td>47</td>\n",
       "      <td>1944</td>\n",
       "      <td>...</td>\n",
       "      <td>0</td>\n",
       "      <td>0</td>\n",
       "      <td>0</td>\n",
       "      <td>2</td>\n",
       "      <td>72.35</td>\n",
       "      <td>0</td>\n",
       "      <td>0</td>\n",
       "    </tr>\n",
       "    <tr>\n",
       "      <th>2494543</th>\n",
       "      <td>2494543</td>\n",
       "      <td>2973</td>\n",
       "      <td>303</td>\n",
       "      <td>10</td>\n",
       "      <td>300</td>\n",
       "      <td>66</td>\n",
       "      <td>3375</td>\n",
       "      <td>...</td>\n",
       "      <td>0</td>\n",
       "      <td>0</td>\n",
       "      <td>0</td>\n",
       "      <td>2</td>\n",
       "      <td>169.76</td>\n",
       "      <td>0</td>\n",
       "      <td>1</td>\n",
       "    </tr>\n",
       "    <tr>\n",
       "      <th>2146108</th>\n",
       "      <td>2146108</td>\n",
       "      <td>3079</td>\n",
       "      <td>295</td>\n",
       "      <td>28</td>\n",
       "      <td>85</td>\n",
       "      <td>-60</td>\n",
       "      <td>1435</td>\n",
       "      <td>...</td>\n",
       "      <td>0</td>\n",
       "      <td>0</td>\n",
       "      <td>0</td>\n",
       "      <td>1</td>\n",
       "      <td>104.04</td>\n",
       "      <td>0</td>\n",
       "      <td>1</td>\n",
       "    </tr>\n",
       "    <tr>\n",
       "      <th>3417162</th>\n",
       "      <td>3417162</td>\n",
       "      <td>3525</td>\n",
       "      <td>321</td>\n",
       "      <td>4</td>\n",
       "      <td>388</td>\n",
       "      <td>6</td>\n",
       "      <td>1026</td>\n",
       "      <td>...</td>\n",
       "      <td>0</td>\n",
       "      <td>0</td>\n",
       "      <td>0</td>\n",
       "      <td>1</td>\n",
       "      <td>139.67</td>\n",
       "      <td>0</td>\n",
       "      <td>1</td>\n",
       "    </tr>\n",
       "    <tr>\n",
       "      <th>1621982</th>\n",
       "      <td>1621982</td>\n",
       "      <td>2791</td>\n",
       "      <td>181</td>\n",
       "      <td>15</td>\n",
       "      <td>1097</td>\n",
       "      <td>34</td>\n",
       "      <td>399</td>\n",
       "      <td>...</td>\n",
       "      <td>0</td>\n",
       "      <td>0</td>\n",
       "      <td>0</td>\n",
       "      <td>2</td>\n",
       "      <td>157.85</td>\n",
       "      <td>2</td>\n",
       "      <td>1</td>\n",
       "    </tr>\n",
       "    <tr>\n",
       "      <th>1050172</th>\n",
       "      <td>1050172</td>\n",
       "      <td>3190</td>\n",
       "      <td>187</td>\n",
       "      <td>13</td>\n",
       "      <td>55</td>\n",
       "      <td>1</td>\n",
       "      <td>702</td>\n",
       "      <td>...</td>\n",
       "      <td>0</td>\n",
       "      <td>0</td>\n",
       "      <td>0</td>\n",
       "      <td>1</td>\n",
       "      <td>55.01</td>\n",
       "      <td>2</td>\n",
       "      <td>1</td>\n",
       "    </tr>\n",
       "  </tbody>\n",
       "</table>\n",
       "<p>10 rows × 59 columns</p>\n",
       "</div>"
      ],
      "text/plain": [
       "              Id  Elevation  Aspect  Slope  Horizontal_Distance_To_Hydrology  \\\n",
       "382060    382060       3411     111     15                               345   \n",
       "3153903  3153903       3028     209      9                               106   \n",
       "2797641  2797641       3211      26     36                                49   \n",
       "655981    655981       2703     153     25                               150   \n",
       "3828362  3828362       2960      36      7                                55   \n",
       "2494543  2494543       2973     303     10                               300   \n",
       "2146108  2146108       3079     295     28                                85   \n",
       "3417162  3417162       3525     321      4                               388   \n",
       "1621982  1621982       2791     181     15                              1097   \n",
       "1050172  1050172       3190     187     13                                55   \n",
       "\n",
       "         Vertical_Distance_To_Hydrology  Horizontal_Distance_To_Roadways  ...  \\\n",
       "382060                               29                             1871  ...   \n",
       "3153903                              41                             2059  ...   \n",
       "2797641                             383                             2047  ...   \n",
       "655981                               97                             1075  ...   \n",
       "3828362                              47                             1944  ...   \n",
       "2494543                              66                             3375  ...   \n",
       "2146108                             -60                             1435  ...   \n",
       "3417162                               6                             1026  ...   \n",
       "1621982                              34                              399  ...   \n",
       "1050172                               1                              702  ...   \n",
       "\n",
       "         Soil_Type38  Soil_Type39  Soil_Type40  Cover_Type  \\\n",
       "382060             0            0            0           1   \n",
       "3153903            0            0            1           1   \n",
       "2797641            0            0            0           2   \n",
       "655981             0            0            0           2   \n",
       "3828362            0            0            0           2   \n",
       "2494543            0            0            0           2   \n",
       "2146108            0            0            0           1   \n",
       "3417162            0            0            0           1   \n",
       "1621982            0            0            0           2   \n",
       "1050172            0            0            0           1   \n",
       "\n",
       "         Euclidean_Distance_To_Hydrology  Soil_Type_Count  \\\n",
       "382060                               NaN                1   \n",
       "3153903                           113.65                2   \n",
       "2797641                           134.23                0   \n",
       "655981                            178.63                0   \n",
       "3828362                            72.35                0   \n",
       "2494543                           169.76                0   \n",
       "2146108                           104.04                0   \n",
       "3417162                           139.67                0   \n",
       "1621982                           157.85                2   \n",
       "1050172                            55.01                2   \n",
       "\n",
       "         Wilderness_Area_Count  \n",
       "382060                       1  \n",
       "3153903                      0  \n",
       "2797641                      1  \n",
       "655981                       1  \n",
       "3828362                      0  \n",
       "2494543                      1  \n",
       "2146108                      1  \n",
       "3417162                      1  \n",
       "1621982                      1  \n",
       "1050172                      1  \n",
       "\n",
       "[10 rows x 59 columns]"
      ]
     },
     "execution_count": 20,
     "metadata": {},
     "output_type": "execute_result"
    }
   ],
   "source": [
    "# 查看\n",
    "train_df.sample(10)"
   ]
  },
  {
   "cell_type": "markdown",
   "id": "01f94318",
   "metadata": {
    "papermill": {
     "duration": 0.038015,
     "end_time": "2021-12-13T14:00:36.132239",
     "exception": false,
     "start_time": "2021-12-13T14:00:36.094224",
     "status": "completed"
    },
    "tags": []
   },
   "source": [
    "___"
   ]
  },
  {
   "cell_type": "markdown",
   "id": "3e221265",
   "metadata": {
    "papermill": {
     "duration": 0.039329,
     "end_time": "2021-12-13T14:00:36.210817",
     "exception": false,
     "start_time": "2021-12-13T14:00:36.171488",
     "status": "completed"
    },
    "tags": []
   },
   "source": [
    "<a id='5'></a>\n",
    "# 4.0- 为训练步骤准备数据集\n",
    "本节将组织训练功能的数据集，还将重点介绍识别分类特征与数值特征，以提高模型性能，同时对数值变量应用一些归一化。"
   ]
  },
  {
   "cell_type": "code",
   "execution_count": 21,
   "id": "186b9be9",
   "metadata": {
    "execution": {
     "iopub.execute_input": "2021-12-13T14:00:36.428121Z",
     "iopub.status.busy": "2021-12-13T14:00:36.415225Z",
     "iopub.status.idle": "2021-12-13T14:00:36.469102Z",
     "shell.execute_reply": "2021-12-13T14:00:36.468622Z",
     "shell.execute_reply.started": "2021-12-13T12:47:27.099291Z"
    },
    "papermill": {
     "duration": 0.218845,
     "end_time": "2021-12-13T14:00:36.469227",
     "exception": false,
     "start_time": "2021-12-13T14:00:36.250382",
     "status": "completed"
    },
    "tags": []
   },
   "outputs": [],
   "source": [
    "# 准备用于训练的数据集，删除一些没有价值的变量。\n",
    "remove = ['Id', 'Cover_Type', 'Soil_Type15', 'Soil_Type7'] # 通过以上分析，决定删除这些数据\n",
    "features = [values for values in train_df.columns if values not in remove]\n",
    "X = train_df[features]\n",
    "y = train_df['Cover_Type']\n",
    "\n",
    "X_test = test_df[features]"
   ]
  },
  {
   "cell_type": "code",
   "execution_count": 22,
   "id": "10b7508f",
   "metadata": {
    "execution": {
     "iopub.execute_input": "2021-12-13T14:00:36.550190Z",
     "iopub.status.busy": "2021-12-13T14:00:36.549454Z",
     "iopub.status.idle": "2021-12-13T14:00:39.057721Z",
     "shell.execute_reply": "2021-12-13T14:00:39.056892Z",
     "shell.execute_reply.started": "2021-12-13T12:47:55.494600Z"
    },
    "papermill": {
     "duration": 2.550239,
     "end_time": "2021-12-13T14:00:39.057869",
     "exception": false,
     "start_time": "2021-12-13T14:00:36.507630",
     "status": "completed"
    },
    "tags": []
   },
   "outputs": [],
   "source": [
    "# 识别分类和数值特征\n",
    "NUMBER_OF_UNIQUE = 25\n",
    "categorical_features = [col for col in features if train_df[col].nunique() < NUMBER_OF_UNIQUE]\n",
    "numerical_features = [col for col in features if train_df[col].nunique() >= NUMBER_OF_UNIQUE]"
   ]
  },
  {
   "cell_type": "code",
   "execution_count": 23,
   "id": "ccbe28dc",
   "metadata": {
    "execution": {
     "iopub.execute_input": "2021-12-13T14:00:39.137901Z",
     "iopub.status.busy": "2021-12-13T14:00:39.137100Z",
     "iopub.status.idle": "2021-12-13T14:00:39.141767Z",
     "shell.execute_reply": "2021-12-13T14:00:39.142598Z",
     "shell.execute_reply.started": "2021-12-13T12:48:25.051519Z"
    },
    "papermill": {
     "duration": 0.046601,
     "end_time": "2021-12-13T14:00:39.142774",
     "exception": false,
     "start_time": "2021-12-13T14:00:39.096173",
     "status": "completed"
    },
    "tags": []
   },
   "outputs": [
    {
     "name": "stdout",
     "output_type": "stream",
     "text": [
      "['Wilderness_Area1', 'Wilderness_Area2', 'Wilderness_Area3', 'Wilderness_Area4', 'Soil_Type1', 'Soil_Type2', 'Soil_Type3', 'Soil_Type4', 'Soil_Type5', 'Soil_Type6', 'Soil_Type8', 'Soil_Type9', 'Soil_Type10', 'Soil_Type11', 'Soil_Type12', 'Soil_Type13', 'Soil_Type14', 'Soil_Type16', 'Soil_Type17', 'Soil_Type18', 'Soil_Type19', 'Soil_Type20', 'Soil_Type21', 'Soil_Type22', 'Soil_Type23', 'Soil_Type24', 'Soil_Type25', 'Soil_Type26', 'Soil_Type27', 'Soil_Type28', 'Soil_Type29', 'Soil_Type30', 'Soil_Type31', 'Soil_Type32', 'Soil_Type33', 'Soil_Type34', 'Soil_Type35', 'Soil_Type36', 'Soil_Type37', 'Soil_Type38', 'Soil_Type39', 'Soil_Type40', 'Soil_Type_Count', 'Wilderness_Area_Count']\n"
     ]
    }
   ],
   "source": [
    "# 输出所有已识别分类要素\n",
    "print(categorical_features)"
   ]
  },
  {
   "cell_type": "code",
   "execution_count": 24,
   "id": "0be41c29",
   "metadata": {
    "execution": {
     "iopub.execute_input": "2021-12-13T14:00:39.363270Z",
     "iopub.status.busy": "2021-12-13T14:00:39.362440Z",
     "iopub.status.idle": "2021-12-13T14:00:39.365298Z",
     "shell.execute_reply": "2021-12-13T14:00:39.365696Z",
     "shell.execute_reply.started": "2021-12-13T12:49:12.101528Z"
    },
    "papermill": {
     "duration": 0.183685,
     "end_time": "2021-12-13T14:00:39.365837",
     "exception": false,
     "start_time": "2021-12-13T14:00:39.182152",
     "status": "completed"
    },
    "tags": []
   },
   "outputs": [
    {
     "data": {
      "text/plain": [
       "57"
      ]
     },
     "execution_count": 24,
     "metadata": {},
     "output_type": "execute_result"
    }
   ],
   "source": [
    "# 删除原始数据帧以节省内存（优化）\n",
    "del train_df # Deletes the train_df dataframe\n",
    "del test_df  # Deletes the test_df dataframe\n",
    "gc.collect()"
   ]
  },
  {
   "cell_type": "markdown",
   "id": "0baa5bd9",
   "metadata": {
    "papermill": {
     "duration": 0.039386,
     "end_time": "2021-12-13T14:00:39.444667",
     "exception": false,
     "start_time": "2021-12-13T14:00:39.405281",
     "status": "completed"
    },
    "tags": []
   },
   "source": [
    "<a id='6'></a>\n",
    "# 5.0- 交叉验证策略"
   ]
  },
  {
   "cell_type": "code",
   "execution_count": 25,
   "id": "f020b0bd",
   "metadata": {
    "execution": {
     "iopub.execute_input": "2021-12-13T14:00:39.529245Z",
     "iopub.status.busy": "2021-12-13T14:00:39.528588Z",
     "iopub.status.idle": "2021-12-13T14:00:40.906623Z",
     "shell.execute_reply": "2021-12-13T14:00:40.907307Z",
     "shell.execute_reply.started": "2021-12-13T12:51:48.117768Z"
    },
    "papermill": {
     "duration": 1.424858,
     "end_time": "2021-12-13T14:00:40.907542",
     "exception": false,
     "start_time": "2021-12-13T14:00:39.482684",
     "status": "completed"
    },
    "tags": []
   },
   "outputs": [],
   "source": [
    "X_train, X_val, y_train, y_val = train_test_split(X, y, random_state = SEED, test_size = 0.2)"
   ]
  },
  {
   "cell_type": "markdown",
   "id": "cb815d3d",
   "metadata": {
    "papermill": {
     "duration": 0.064288,
     "end_time": "2021-12-13T14:00:41.051814",
     "exception": false,
     "start_time": "2021-12-13T14:00:40.987526",
     "status": "completed"
    },
    "tags": []
   },
   "source": [
    "---"
   ]
  },
  {
   "cell_type": "markdown",
   "id": "62a8a1cd",
   "metadata": {
    "papermill": {
     "duration": 0.063879,
     "end_time": "2021-12-13T14:00:41.178480",
     "exception": false,
     "start_time": "2021-12-13T14:00:41.114601",
     "status": "completed"
    },
    "tags": []
   },
   "source": [
    "<a id='7'></a>\n",
    "# 6.0- LGBM训练机器学习模型"
   ]
  },
  {
   "cell_type": "code",
   "execution_count": 26,
   "id": "54b6577e",
   "metadata": {
    "execution": {
     "iopub.execute_input": "2021-12-13T14:00:41.313310Z",
     "iopub.status.busy": "2021-12-13T14:00:41.312483Z",
     "iopub.status.idle": "2021-12-13T14:00:41.316688Z",
     "shell.execute_reply": "2021-12-13T14:00:41.317290Z",
     "shell.execute_reply.started": "2021-12-13T13:03:31.018305Z"
    },
    "papermill": {
     "duration": 0.075549,
     "end_time": "2021-12-13T14:00:41.317475",
     "exception": false,
     "start_time": "2021-12-13T14:00:41.241926",
     "status": "completed"
    },
    "tags": []
   },
   "outputs": [],
   "source": [
    "# 定义一些模型参数\n",
    "ESTIMATORS = 10 # Default value for the training 2048\n",
    "LR = 0.1\n",
    "VERBOSE = 16\n",
    "EARLY_STOPPING = 250\n",
    "\n",
    "lgb_params = {'n_estimators'     : ESTIMATORS,      # Number of boosting iterations.\n",
    "              'random_state'     : SEED,            # Random seed initilizer for the model, helps to replicate the experiments.\n",
    "              'learning_rate'    : LR,              # The model learning rate.\n",
    "              'subsample'        : 0.95,            # Row subsample from the dataset, like feature_fraction, but this will randomly select part of data without resampling\n",
    "              'subsample_freq'   : 1,               # Use or not subsample frequency.\n",
    "              'colsample_bytree' : 0.75,            # LightGBM will randomly select a subset of features on each iteration (tree).\n",
    "              'reg_alpha'        : 0.5,             # L1 regularization.\n",
    "              'reg_lambda'       : 0.5,             # L2 regularization.\n",
    "              'min_child_weight' : 1e-3,            # Minimal sum hessian in one leaf, it can be used to deal with over-fitting.\n",
    "              'min_child_samples': 32,              # Minimal number of data in one leaf. Can be used to deal with over-fitting.\n",
    "              'objective'        : 'multiclass',    # Softmax objective function.\n",
    "              'metric'           : 'multi_logloss', # Log loss for multi-class classification.\n",
    "              'device_type'      : 'gpu',\n",
    "             }   "
   ]
  },
  {
   "cell_type": "markdown",
   "id": "7e17af5c",
   "metadata": {
    "papermill": {
     "duration": 0.06212,
     "end_time": "2021-12-13T14:00:41.446352",
     "exception": false,
     "start_time": "2021-12-13T14:00:41.384232",
     "status": "completed"
    },
    "tags": []
   },
   "source": [
    "<a id='8'></a>\n",
    "# 6.1- 使用LightGBM训练梯度提升决策树\n"
   ]
  },
  {
   "cell_type": "code",
   "execution_count": 27,
   "id": "f0841e57",
   "metadata": {
    "execution": {
     "iopub.execute_input": "2021-12-13T14:00:41.528530Z",
     "iopub.status.busy": "2021-12-13T14:00:41.527782Z",
     "iopub.status.idle": "2021-12-13T14:01:13.482448Z",
     "shell.execute_reply": "2021-12-13T14:01:13.482935Z",
     "shell.execute_reply.started": "2021-12-13T13:03:34.520429Z"
    },
    "papermill": {
     "duration": 31.998394,
     "end_time": "2021-12-13T14:01:13.483098",
     "exception": false,
     "start_time": "2021-12-13T14:00:41.484704",
     "status": "completed"
    },
    "tags": []
   },
   "outputs": [
    {
     "data": {
      "text/plain": [
       "LGBMClassifier(colsample_bytree=0.75, device_type='gpu', metric='multi_logloss',\n",
       "               min_child_samples=32, n_estimators=10, objective='multiclass',\n",
       "               random_state=42, reg_alpha=0.5, reg_lambda=0.5, subsample=0.95,\n",
       "               subsample_freq=1)"
      ]
     },
     "execution_count": 27,
     "metadata": {},
     "output_type": "execute_result"
    }
   ],
   "source": [
    "# 使用lgb_params训练 LGBM 模型\n",
    "lgb_classifier = LGBMClassifier(**lgb_params)\n",
    "\n",
    "lgb_classifier.fit(X_train, \n",
    "                   y_train, \n",
    "                   eval_set = [(X_val, y_val)],\n",
    "                   categorical_feature = categorical_features,\n",
    "                   # 如果一个验证数据中的一个指标在最后early_stopping_round轮中没有改善，将停止训练\n",
    "                   early_stopping_rounds = EARLY_STOPPING,\n",
    "                   verbose = VERBOSE, # 控制 LightGBM 的详细程度\n",
    "                  )"
   ]
  },
  {
   "cell_type": "markdown",
   "id": "ebb8688f",
   "metadata": {
    "papermill": {
     "duration": 0.038301,
     "end_time": "2021-12-13T14:01:13.560250",
     "exception": false,
     "start_time": "2021-12-13T14:01:13.521949",
     "status": "completed"
    },
    "tags": []
   },
   "source": [
    "<a id='9'></a>\n",
    "# 6.2- 验证模型结果"
   ]
  },
  {
   "cell_type": "code",
   "execution_count": 28,
   "id": "463f7ade",
   "metadata": {
    "execution": {
     "iopub.execute_input": "2021-12-13T14:01:13.643033Z",
     "iopub.status.busy": "2021-12-13T14:01:13.639734Z",
     "iopub.status.idle": "2021-12-13T14:01:13.645414Z",
     "shell.execute_reply": "2021-12-13T14:01:13.644979Z",
     "shell.execute_reply.started": "2021-12-13T13:08:04.169537Z"
    },
    "papermill": {
     "duration": 0.046547,
     "end_time": "2021-12-13T14:01:13.645517",
     "exception": false,
     "start_time": "2021-12-13T14:01:13.598970",
     "status": "completed"
    },
    "tags": []
   },
   "outputs": [],
   "source": [
    "# 查看模型的前10个特征重要性。\n",
    "feature_imp = pd.DataFrame(sorted(zip(lgb_classifier.feature_importances_,X.columns)),columns=['Value','Feature'])"
   ]
  },
  {
   "cell_type": "code",
   "execution_count": 29,
   "id": "d6f20949",
   "metadata": {
    "execution": {
     "iopub.execute_input": "2021-12-13T14:01:13.731084Z",
     "iopub.status.busy": "2021-12-13T14:01:13.730520Z",
     "iopub.status.idle": "2021-12-13T14:01:13.735261Z",
     "shell.execute_reply": "2021-12-13T14:01:13.734826Z",
     "shell.execute_reply.started": "2021-12-13T13:08:07.526565Z"
    },
    "papermill": {
     "duration": 0.050957,
     "end_time": "2021-12-13T14:01:13.735369",
     "exception": false,
     "start_time": "2021-12-13T14:01:13.684412",
     "status": "completed"
    },
    "tags": []
   },
   "outputs": [
    {
     "name": "stdout",
     "output_type": "stream",
     "text": [
      "   Value      Feature\n",
      "0      0  Soil_Type18\n",
      "1      0  Soil_Type19\n",
      "2      0  Soil_Type21\n",
      "3      0  Soil_Type25\n",
      "4      0  Soil_Type26\n",
      "5      0   Soil_Type8\n",
      "6      0   Soil_Type9\n",
      "7      1  Soil_Type12\n",
      "8      1  Soil_Type14\n",
      "9      1  Soil_Type16 \n",
      "\n",
      "    Value                             Feature\n",
      "45     43                         Soil_Type10\n",
      "46     48     Euclidean_Distance_To_Hydrology\n",
      "47     56                    Wilderness_Area1\n",
      "48     95                    Wilderness_Area3\n",
      "49    116                     Soil_Type_Count\n",
      "50    144      Vertical_Distance_To_Hydrology\n",
      "51    147    Horizontal_Distance_To_Hydrology\n",
      "52    185     Horizontal_Distance_To_Roadways\n",
      "53    206  Horizontal_Distance_To_Fire_Points\n",
      "54    313                           Elevation\n"
     ]
    }
   ],
   "source": [
    "# 回顾模型认为重要的前五5个特征\n",
    "print(feature_imp.head(10), '\\n')\n",
    "print(feature_imp.tail(10))"
   ]
  },
  {
   "cell_type": "code",
   "execution_count": 30,
   "id": "9584ff26",
   "metadata": {
    "execution": {
     "iopub.execute_input": "2021-12-13T14:01:13.821254Z",
     "iopub.status.busy": "2021-12-13T14:01:13.820222Z",
     "iopub.status.idle": "2021-12-13T14:01:16.170196Z",
     "shell.execute_reply": "2021-12-13T14:01:16.169678Z",
     "shell.execute_reply.started": "2021-12-13T13:08:09.985416Z"
    },
    "papermill": {
     "duration": 2.39544,
     "end_time": "2021-12-13T14:01:16.170340",
     "exception": false,
     "start_time": "2021-12-13T14:01:13.774900",
     "status": "completed"
    },
    "tags": []
   },
   "outputs": [
    {
     "name": "stdout",
     "output_type": "stream",
     "text": [
      "Mean Accuracy : 0.9336425\n"
     ]
    }
   ],
   "source": [
    "# 模型预测的结果和针对真实目标的评估\n",
    "preds_valid = lgb_classifier.predict(X_val)\n",
    "accuracy = accuracy_score(y_val, preds_valid)\n",
    "print(\"Mean Accuracy :\", accuracy)"
   ]
  },
  {
   "cell_type": "markdown",
   "id": "2517359e",
   "metadata": {
    "papermill": {
     "duration": 0.040197,
     "end_time": "2021-12-13T14:01:16.254127",
     "exception": false,
     "start_time": "2021-12-13T14:01:16.213930",
     "status": "completed"
    },
    "tags": []
   },
   "source": [
    "* **Mean Accuracy : 0.96136375** ... Simple baseline model, No Features outside the default variables...\n",
    "* **Mean Accuracy : 0.96140750** ... Added Euclidean distance as a Feature to the model...\n",
    "* **Mean Accuracy : 0.96140750** ... Added Euclidean distance as a Feature + Corrections to the ranges of the Azimut and the Hillshade...\n",
    "* **Mean Accuracy : 0.96057125** ... Added Euclidean distance as a Feature + Corrections to the ranges of the Azimut and the Hillshade, New Train Parameters 128 Estimators...\n",
    "* **Mean Accuracy : 0.96060625** ... Added Euclidean distance as a Feature + Corrections to the ranges of the Azimut and the Hillshade, New Train Parameters 128 Estimators, Removed Soil 17 & 7...\n",
    "* **Mean Accuracy : 0.96217000** ... Added Euclidean distance as a Feature + Corrections to the ranges of the Azimut and the Hillshade, New Train Parameters 2048 Estimators, Removed Soil 17 & 7..."
   ]
  },
  {
   "cell_type": "code",
   "execution_count": 31,
   "id": "ba6af23a",
   "metadata": {
    "execution": {
     "iopub.execute_input": "2021-12-13T14:01:16.470973Z",
     "iopub.status.busy": "2021-12-13T14:01:16.469324Z",
     "iopub.status.idle": "2021-12-13T14:01:16.473036Z",
     "shell.execute_reply": "2021-12-13T14:01:16.472570Z",
     "shell.execute_reply.started": "2021-12-13T13:08:19.198267Z"
    },
    "papermill": {
     "duration": 0.180011,
     "end_time": "2021-12-13T14:01:16.473168",
     "exception": false,
     "start_time": "2021-12-13T14:01:16.293157",
     "status": "completed"
    },
    "tags": []
   },
   "outputs": [
    {
     "data": {
      "text/plain": [
       "21"
      ]
     },
     "execution_count": 31,
     "metadata": {},
     "output_type": "execute_result"
    }
   ],
   "source": [
    "# 删除为简单训练创建的训练和验证数据帧以节省内存（优化）\n",
    "del X_train, \n",
    "del X_val, \n",
    "del y_train, \n",
    "del y_val\n",
    "gc.collect()"
   ]
  },
  {
   "cell_type": "markdown",
   "id": "15c7058b",
   "metadata": {
    "papermill": {
     "duration": 0.039094,
     "end_time": "2021-12-13T14:01:16.551823",
     "exception": false,
     "start_time": "2021-12-13T14:01:16.512729",
     "status": "completed"
    },
    "tags": []
   },
   "source": [
    "---"
   ]
  },
  {
   "cell_type": "markdown",
   "id": "aa664290",
   "metadata": {
    "papermill": {
     "duration": 0.038652,
     "end_time": "2021-12-13T14:01:16.629384",
     "exception": false,
     "start_time": "2021-12-13T14:01:16.590732",
     "status": "completed"
    },
    "tags": []
   },
   "source": [
    "<a id='10'></a>\n",
    "# 7.0- 训练机器学习模型LGBM"
   ]
  },
  {
   "cell_type": "markdown",
   "id": "c0103223",
   "metadata": {
    "execution": {
     "iopub.execute_input": "2021-12-11T23:58:53.116603Z",
     "iopub.status.busy": "2021-12-11T23:58:53.116261Z",
     "iopub.status.idle": "2021-12-11T23:58:53.121655Z",
     "shell.execute_reply": "2021-12-11T23:58:53.120515Z",
     "shell.execute_reply.started": "2021-12-11T23:58:53.11657Z"
    },
    "papermill": {
     "duration": 0.03902,
     "end_time": "2021-12-13T14:01:16.707400",
     "exception": false,
     "start_time": "2021-12-13T14:01:16.668380",
     "status": "completed"
    },
    "tags": []
   },
   "source": [
    "<a id='11'></a>\n",
    "# 7.1- 使用LightGBM在交叉验证循环、梯度提升决策树中训练简单模型"
   ]
  },
  {
   "cell_type": "code",
   "execution_count": 32,
   "id": "325b1612",
   "metadata": {
    "execution": {
     "iopub.execute_input": "2021-12-13T14:01:16.795835Z",
     "iopub.status.busy": "2021-12-13T14:01:16.794593Z",
     "iopub.status.idle": "2021-12-13T14:12:06.442073Z",
     "shell.execute_reply": "2021-12-13T14:12:06.441593Z",
     "shell.execute_reply.started": "2021-12-13T13:16:03.030693Z"
    },
    "papermill": {
     "duration": 649.695393,
     "end_time": "2021-12-13T14:12:06.442199",
     "exception": false,
     "start_time": "2021-12-13T14:01:16.746806",
     "status": "completed"
    },
    "tags": []
   },
   "outputs": [
    {
     "name": "stdout",
     "output_type": "stream",
     "text": [
      "Fold  1 Accuracy Score: 0.933040\n",
      "Fold  2 Accuracy Score: 0.934170\n",
      "Fold  3 Accuracy Score: 0.933530\n",
      "Fold  4 Accuracy Score: 0.933450\n",
      "Fold  5 Accuracy Score: 0.933270\n",
      "Fold  6 Accuracy Score: 0.933310\n",
      "Fold  7 Accuracy Score: 0.933545\n",
      "Fold  8 Accuracy Score: 0.933800\n",
      "Fold  9 Accuracy Score: 0.933550\n",
      "Fold 10 Accuracy Score: 0.932425\n",
      "Fold 11 Accuracy Score: 0.932870\n",
      "Fold 12 Accuracy Score: 0.933085\n",
      "Fold 13 Accuracy Score: 0.933745\n",
      "Fold 14 Accuracy Score: 0.934710\n",
      "Fold 15 Accuracy Score: 0.933125\n",
      "Fold 16 Accuracy Score: 0.934175\n",
      "Fold 17 Accuracy Score: 0.933525\n",
      "Fold 18 Accuracy Score: 0.933135\n",
      "Fold 19 Accuracy Score: 0.932800\n",
      "Fold 20 Accuracy Score: 0.932910\n",
      "\n",
      "\n",
      "Avg. Accuracy Score 0.933408\n"
     ]
    }
   ],
   "source": [
    "# 定义一些交叉验证模型参数\n",
    "FOLDS = 20\n",
    "folds = StratifiedKFold(n_splits = FOLDS, shuffle = True, random_state = SEED)\n",
    "\n",
    "oof_preds = np.zeros(X.shape[0])\n",
    "sub_preds = np.zeros(X_test.shape[0])\n",
    "\n",
    "for n_fold, (trn_idx, val_idx) in enumerate(folds.split(X, y)):\n",
    "    trn_x, trn_y = X[features].iloc[trn_idx], y.iloc[trn_idx]\n",
    "    val_x, val_y = X[features].iloc[val_idx], y.iloc[val_idx]\n",
    "    \n",
    "    clf = LGBMClassifier(**lgb_params)\n",
    "    clf.fit(trn_x, \n",
    "            trn_y, \n",
    "            eval_set = [(val_x, val_y)],\n",
    "            categorical_feature = categorical_features,\n",
    "            verbose=VERBOSE, \n",
    "            early_stopping_rounds=EARLY_STOPPING)\n",
    "    \n",
    "    oof_preds[val_idx] = clf.predict(val_x, num_iteration=clf.best_iteration_)\n",
    "    sub_preds += clf.predict(X_test[features], num_iteration=clf.best_iteration_) / folds.n_splits\n",
    "    \n",
    "    print('Fold %2d Accuracy Score: %.6f' % (n_fold + 1, accuracy_score(val_y, oof_preds[val_idx])))\n",
    "    del trn_x, trn_y, val_x, val_y\n",
    "    gc.collect()\n",
    "\n",
    "print('\\n')    \n",
    "print('Avg. Accuracy Score %.6f' % accuracy_score(y, oof_preds))"
   ]
  },
  {
   "cell_type": "markdown",
   "id": "02325dd3",
   "metadata": {
    "papermill": {
     "duration": 0.043951,
     "end_time": "2021-12-13T14:12:06.530388",
     "exception": false,
     "start_time": "2021-12-13T14:12:06.486437",
     "status": "completed"
    },
    "tags": []
   },
   "source": [
    "<a id='12'></a>\n",
    "# 7.2- 验证模型结果"
   ]
  },
  {
   "cell_type": "code",
   "execution_count": 33,
   "id": "cff4639b",
   "metadata": {
    "execution": {
     "iopub.execute_input": "2021-12-13T14:12:06.625546Z",
     "iopub.status.busy": "2021-12-13T14:12:06.624740Z",
     "iopub.status.idle": "2021-12-13T14:12:06.628270Z",
     "shell.execute_reply": "2021-12-13T14:12:06.627840Z",
     "shell.execute_reply.started": "2021-12-13T13:36:15.200382Z"
    },
    "papermill": {
     "duration": 0.052781,
     "end_time": "2021-12-13T14:12:06.628377",
     "exception": false,
     "start_time": "2021-12-13T14:12:06.575596",
     "status": "completed"
    },
    "tags": []
   },
   "outputs": [],
   "source": [
    "# 查看模型的前 10 个特征重要性\n",
    "feature_imp_cv = pd.DataFrame(sorted(zip(clf.feature_importances_,X.columns)), columns=['Value','Feature'])"
   ]
  },
  {
   "cell_type": "code",
   "execution_count": 34,
   "id": "5fe1db86",
   "metadata": {
    "execution": {
     "iopub.execute_input": "2021-12-13T14:12:06.724199Z",
     "iopub.status.busy": "2021-12-13T14:12:06.723467Z",
     "iopub.status.idle": "2021-12-13T14:12:06.726779Z",
     "shell.execute_reply": "2021-12-13T14:12:06.727227Z",
     "shell.execute_reply.started": "2021-12-13T13:36:17.093376Z"
    },
    "papermill": {
     "duration": 0.054791,
     "end_time": "2021-12-13T14:12:06.727349",
     "exception": false,
     "start_time": "2021-12-13T14:12:06.672558",
     "status": "completed"
    },
    "tags": []
   },
   "outputs": [
    {
     "name": "stdout",
     "output_type": "stream",
     "text": [
      "   Value      Feature\n",
      "0      0  Soil_Type18\n",
      "1      0  Soil_Type19\n",
      "2      0  Soil_Type21\n",
      "3      0  Soil_Type25\n",
      "4      0  Soil_Type28\n",
      "5      0   Soil_Type8\n",
      "6      0   Soil_Type9\n",
      "7      1  Soil_Type12\n",
      "8      1  Soil_Type16\n",
      "9      1  Soil_Type20 \n",
      "\n",
      "    Value                             Feature\n",
      "45     43                         Soil_Type10\n",
      "46     44     Euclidean_Distance_To_Hydrology\n",
      "47     60                    Wilderness_Area1\n",
      "48     94                    Wilderness_Area3\n",
      "49    118                     Soil_Type_Count\n",
      "50    154      Vertical_Distance_To_Hydrology\n",
      "51    159    Horizontal_Distance_To_Hydrology\n",
      "52    168     Horizontal_Distance_To_Roadways\n",
      "53    218  Horizontal_Distance_To_Fire_Points\n",
      "54    308                           Elevation\n"
     ]
    }
   ],
   "source": [
    "# 回顾模型认为重要的前五个特征\n",
    "print(feature_imp_cv.head(10), '\\n')\n",
    "print(feature_imp_cv.tail(10))"
   ]
  },
  {
   "cell_type": "markdown",
   "id": "fee7fce4",
   "metadata": {
    "papermill": {
     "duration": 0.045639,
     "end_time": "2021-12-13T14:12:06.818471",
     "exception": false,
     "start_time": "2021-12-13T14:12:06.772832",
     "status": "completed"
    },
    "tags": []
   },
   "source": [
    "___"
   ]
  },
  {
   "cell_type": "markdown",
   "id": "f4a6c54f",
   "metadata": {
    "papermill": {
     "duration": 0.044227,
     "end_time": "2021-12-13T14:12:06.907760",
     "exception": false,
     "start_time": "2021-12-13T14:12:06.863533",
     "status": "completed"
    },
    "tags": []
   },
   "source": [
    "<a id='13'></a>\n",
    "# 8.0 - 提交"
   ]
  },
  {
   "cell_type": "code",
   "execution_count": 35,
   "id": "f1d36f81",
   "metadata": {
    "execution": {
     "iopub.execute_input": "2021-12-13T14:12:07.040222Z",
     "iopub.status.busy": "2021-12-13T14:12:07.038627Z",
     "iopub.status.idle": "2021-12-13T14:12:11.155040Z",
     "shell.execute_reply": "2021-12-13T14:12:11.154420Z",
     "shell.execute_reply.started": "2021-12-13T13:36:22.448893Z"
    },
    "papermill": {
     "duration": 4.201847,
     "end_time": "2021-12-13T14:12:11.155164",
     "exception": false,
     "start_time": "2021-12-13T14:12:06.953317",
     "status": "completed"
    },
    "tags": []
   },
   "outputs": [],
   "source": [
    "# 使用 80/20 train/val 模型计算预测\n",
    "preds_test = lgb_classifier.predict(X_test[features])\n",
    "\n",
    "# 提交来自 CV 训练模型的预设\n",
    "sub_preds = sub_preds.astype(np.int)\n",
    "submission_df['Cover_Type'] = sub_preds\n",
    "submission_df.to_csv('cv_sub_v12112021.csv', index = None)"
   ]
  }
 ],
 "metadata": {
  "kernelspec": {
   "display_name": "Python 3",
   "language": "python",
   "name": "python3"
  },
  "language_info": {
   "codemirror_mode": {
    "name": "ipython",
    "version": 3
   },
   "file_extension": ".py",
   "mimetype": "text/x-python",
   "name": "python",
   "nbconvert_exporter": "python",
   "pygments_lexer": "ipython3",
   "version": "3.7.12"
  },
  "papermill": {
   "default_parameters": {},
   "duration": 757.499995,
   "end_time": "2021-12-13T14:12:12.212035",
   "environment_variables": {},
   "exception": null,
   "input_path": "__notebook__.ipynb",
   "output_path": "__notebook__.ipynb",
   "parameters": {},
   "start_time": "2021-12-13T13:59:34.712040",
   "version": "2.3.3"
  }
 },
 "nbformat": 4,
 "nbformat_minor": 5
}
